{
  "nbformat": 4,
  "nbformat_minor": 0,
  "metadata": {
    "colab": {
      "provenance": []
    },
    "kernelspec": {
      "name": "python3",
      "display_name": "Python 3"
    },
    "language_info": {
      "name": "python"
    }
  },
  "cells": [
    {
      "cell_type": "markdown",
      "source": [
        "# **Generating MUSCLE semantic split**\n",
        "Given a file with the Louvain commuties (`louvainGlobalWithIDs.csv`) and a complete dataset (`dataset_P_L25.csv`), this code generates the train/test dataset of the MUSCLE semantic split."
      ],
      "metadata": {
        "id": "57MGWE4GnPIK"
      }
    },
    {
      "cell_type": "code",
      "source": [
        "# download file louvainGlobalWithIDs.csv\n",
        "!gdown '1DqVW0Cy-B7nshjjBcaZfQpN5qyNAfmU0'\n",
        "\n",
        "# download file dataset_P_L25.csv\n",
        "!gdown '1cYPnih0UVpbdzkVa16wTrabdIisdWsAy'"
      ],
      "metadata": {
        "colab": {
          "base_uri": "https://localhost:8080/"
        },
        "id": "pjALPwgGl2ez",
        "outputId": "84d8f17a-75eb-463b-92b0-bd574417ccd9"
      },
      "execution_count": 5,
      "outputs": [
        {
          "output_type": "stream",
          "name": "stdout",
          "text": [
            "Downloading...\n",
            "From: https://drive.google.com/uc?id=1DqVW0Cy-B7nshjjBcaZfQpN5qyNAfmU0\n",
            "To: /content/louvainGlobalWithIDs.csv\n",
            "100% 170k/170k [00:00<00:00, 19.0MB/s]\n",
            "Downloading...\n",
            "From: https://drive.google.com/uc?id=1cYPnih0UVpbdzkVa16wTrabdIisdWsAy\n",
            "To: /content/dataset_P_L25.csv\n",
            "100% 23.6M/23.6M [00:00<00:00, 50.0MB/s]\n"
          ]
        }
      ]
    },
    {
      "cell_type": "code",
      "execution_count": null,
      "metadata": {
        "colab": {
          "base_uri": "https://localhost:8080/"
        },
        "id": "97kCfCC-taY_",
        "outputId": "5e01e6fe-0c32-4529-92a0-cb1f187d1ad5"
      },
      "outputs": [
        {
          "output_type": "stream",
          "name": "stdout",
          "text": [
            "Mounted at /content/drive\n"
          ]
        }
      ],
      "source": [
        "from google.colab import drive\n",
        "drive.mount('/content/drive')"
      ]
    },
    {
      "cell_type": "code",
      "source": [
        "import pandas as pd\n",
        "import ast\n",
        "import re\n",
        "import numpy as np\n",
        "from scipy.stats import entropy"
      ],
      "metadata": {
        "id": "UEHiEB20uv1G"
      },
      "execution_count": 3,
      "outputs": []
    },
    {
      "cell_type": "markdown",
      "source": [
        "**Read the Louvain communities**"
      ],
      "metadata": {
        "id": "ttpov7XFn-tK"
      }
    },
    {
      "cell_type": "code",
      "source": [
        "FILE_NAME = '/content/louvainGlobalWithIDs.csv'\n",
        "\n",
        "louvain_com = pd.read_csv(FILE_NAME)\n",
        "communities_louvain = []\n",
        "for l in louvain_com.iloc[:,2]:\n",
        "    l = re.sub('\\\\[','',l)\n",
        "    l = re.sub('\\\\]', '', l)\n",
        "    vals = l.split(',')\n",
        "    communities_louvain.append(vals)"
      ],
      "metadata": {
        "id": "ux1daU6205XF"
      },
      "execution_count": 4,
      "outputs": []
    },
    {
      "cell_type": "markdown",
      "source": [
        "**Find all concepts in the Louvain communities**"
      ],
      "metadata": {
        "id": "rC2rswAdoMO5"
      }
    },
    {
      "cell_type": "code",
      "source": [
        "all_concepts = sum(communities_louvain,[])\n",
        "print(len(communities_louvain))\n",
        "print(len(all_concepts))\n",
        "print(len(all_concepts)-len(set(all_concepts)))"
      ],
      "metadata": {
        "colab": {
          "base_uri": "https://localhost:8080/"
        },
        "id": "mtHusDOj3jdu",
        "outputId": "3c645260-d78a-49c2-83f7-baf46093aa4e"
      },
      "execution_count": null,
      "outputs": [
        {
          "output_type": "stream",
          "name": "stdout",
          "text": [
            "1718\n",
            "7231\n",
            "0\n"
          ]
        }
      ]
    },
    {
      "cell_type": "markdown",
      "source": [
        "**Separate all concepts in train/test concepts to obtain balanced datasets (50% train /50% test).**"
      ],
      "metadata": {
        "id": "zvL820F_oQut"
      }
    },
    {
      "cell_type": "code",
      "source": [
        "len_train = 0\n",
        "concepts_train = []\n",
        "len_test = 0\n",
        "concepts_test = []\n",
        "for c in communities_louvain:\n",
        "    if len_train <= len_test:\n",
        "        concepts_train.extend(c)\n",
        "        len_train += len(c)\n",
        "    else:\n",
        "        concepts_test.extend(c)\n",
        "        len_test += len(c)"
      ],
      "metadata": {
        "id": "Geqy399StBOY"
      },
      "execution_count": null,
      "outputs": []
    },
    {
      "cell_type": "code",
      "source": [
        "print(len(concepts_train))\n",
        "print(len(concepts_test))"
      ],
      "metadata": {
        "colab": {
          "base_uri": "https://localhost:8080/"
        },
        "id": "u66qVUgduH4U",
        "outputId": "c1c3cf03-392d-4294-be11-c4719e4410c9"
      },
      "execution_count": null,
      "outputs": [
        {
          "output_type": "stream",
          "name": "stdout",
          "text": [
            "3616\n",
            "3615\n"
          ]
        }
      ]
    },
    {
      "cell_type": "markdown",
      "source": [
        "**Read the complete dataset `dataset_P_L25.csv`.**"
      ],
      "metadata": {
        "id": "fLTcuNcDo0-p"
      }
    },
    {
      "cell_type": "code",
      "source": [
        "data_25 = pd.read_csv('dataset_P_L25.csv')"
      ],
      "metadata": {
        "id": "44NtupJxv1hl"
      },
      "execution_count": 6,
      "outputs": []
    },
    {
      "cell_type": "code",
      "source": [
        "data_25"
      ],
      "metadata": {
        "colab": {
          "base_uri": "https://localhost:8080/",
          "height": 591
        },
        "id": "ZSVnqhx9wRmE",
        "outputId": "2baacbd9-b6a8-470d-9fee-aea8f4b2f510"
      },
      "execution_count": null,
      "outputs": [
        {
          "output_type": "execute_result",
          "data": {
            "text/plain": [
              "       subject    object  relation_type  property      en_label_subject  \\\n",
              "0       Q33514    Q19860    hyponym for      P279          Indo-Iranian   \n",
              "1        Q2736    Q28640         random    random  association football   \n",
              "2      Q166376   Q172833         random    random       doping in sport   \n",
              "3      Q194235    Q44722  hyperonym for  P279_inv    lunisolar calendar   \n",
              "4       Q93200    Q44602         random    random                sexism   \n",
              "...        ...       ...            ...       ...                   ...   \n",
              "27502  Q186385    Q56061         random    random                caviar   \n",
              "27503    Q7918  Q6583695         random    random             Bulgarian   \n",
              "27504   Q32090   Q152234         random    random             lifestyle   \n",
              "27505   Q48422   Q845120         random    random               cadaver   \n",
              "27506    Q8242   Q181784         random    random            literature   \n",
              "\n",
              "                         en_label_object         fr_label_subject  \\\n",
              "0                          Indo-European  langues indo-iraniennes   \n",
              "1                             profession                 football   \n",
              "2                                  broom           dopage sportif   \n",
              "3                        Hebrew calendar  calendrier luni-solaire   \n",
              "4                                fasting                  sexisme   \n",
              "...                                  ...                      ...   \n",
              "27502  administrative territorial entity                   caviar   \n",
              "27503                  thermal expansion                  bulgare   \n",
              "27504                              edema              mode de vie   \n",
              "27505                               segc                  cadavre   \n",
              "27506                  human trafficking              littérature   \n",
              "\n",
              "                          fr_label_object   de_label_subject  \\\n",
              "0                langues indo-européennes       Indoiranisch   \n",
              "1                              profession            Fußball   \n",
              "2                                   balai             Doping   \n",
              "3                    calendrier hébraïque  Lunisolarkalender   \n",
              "4                                   jeûne           Sexismus   \n",
              "...                                   ...                ...   \n",
              "27502  entité territoriale administrative             Kaviar   \n",
              "27503                dilatation thermique         Bulgarisch   \n",
              "27504                               œdème         Lebensstil   \n",
              "27505                  économie du Brésil           Leichnam   \n",
              "27506              trafic d'êtres humains          Literatur   \n",
              "\n",
              "                          de_label_object  ...   tr_label_subject  \\\n",
              "0                indogermanische Sprachen  ...  Hint-İran dilleri   \n",
              "1                                   Beruf  ...             futbol   \n",
              "2                                   Besen  ...             Doping   \n",
              "3                      Jüdischer Kalender  ...   lunisolar takvim   \n",
              "4                                  Fasten  ...      cinsiyetçilik   \n",
              "...                                   ...  ...                ...   \n",
              "27502  administrativ-territoriale Entität  ...             Havyar   \n",
              "27503                     Wärmeausdehnung  ...           Bulgarca   \n",
              "27504                                Ödem  ...        yaşam tarzı   \n",
              "27505               Wirtschaft Brasiliens  ...              ceset   \n",
              "27506                      Menschenhandel  ...           edebiyat   \n",
              "\n",
              "              tr_label_object         id_label_subject  \\\n",
              "0      Hint-Avrupa dil ailesi  Rumpun bahasa Indo-Iran   \n",
              "1                      meslek               sepak bola   \n",
              "2                     Süpürge                   Doping   \n",
              "3              İbrani takvimi     Kalender suryacandra   \n",
              "4                        oruç                 seksisme   \n",
              "...                       ...                      ...   \n",
              "27502           idari bölünüş                   kaviar   \n",
              "27503                Genleşme          Bahasa Bulgaria   \n",
              "27504                    Ödem               gaya hidup   \n",
              "27505      Brezilya ekonomisi                  jenazah   \n",
              "27506          İnsan ticareti                   sastra   \n",
              "\n",
              "                id_label_object      sr_label_subject      sr_label_object  \\\n",
              "0      Rumpun bahasa Indo-Eropa   индо-ирански језици  индоевропски језици   \n",
              "1                       profesi                фудбал             занимање   \n",
              "2                          Sapu                допинг                метла   \n",
              "3               Kalender Ibrani  Лунисоларни календар   Јеврејски календар   \n",
              "4                         puasa              сексизам                 Пост   \n",
              "...                         ...                   ...                  ...   \n",
              "27502     wilayah administratif               Кавијар     управна јединица   \n",
              "27503                  Pemuaian        бугарски језик  Termička dilatacija   \n",
              "27504                    Sembap          животни стил                 Otok   \n",
              "27505            ekonomi Brasil                   леш     привреда Бразила   \n",
              "27506       perdagangan manusia            књижевност      трговина људима   \n",
              "\n",
              "        hu_label_subject          hu_label_object   da_label_subject  \\\n",
              "0      indoiráni nyelvek  indoeurópai nyelvcsalád  Indoiranske sprog   \n",
              "1             labdarúgás                   szakma            fodbold   \n",
              "2                dopping                    seprű             Doping   \n",
              "3      Szolunáris naptár             zsidó naptár  lunisolarkalender   \n",
              "4              szexizmus                     böjt            sexisme   \n",
              "...                  ...                      ...                ...   \n",
              "27502             kaviár     közigazgatási egység             kaviar   \n",
              "27503             bolgár                hőtágulás           bulgarsk   \n",
              "27504         életstílus                    ödéma           livsstil   \n",
              "27505           holttest       Brazília gazdasága        menneskelig   \n",
              "27506           irodalom        emberkereskedelem         litteratur   \n",
              "\n",
              "                       da_label_object  \n",
              "0                 indoeuropæiske sprog  \n",
              "1                           profession  \n",
              "2                                 kost  \n",
              "3                 Den jødiske kalender  \n",
              "4                                Faste  \n",
              "...                                ...  \n",
              "27502  administrativ-territorial enhed  \n",
              "27503               Termisk ekspansion  \n",
              "27504                             ødem  \n",
              "27505               Brasiliens økonomi  \n",
              "27506                   menneskehandel  \n",
              "\n",
              "[27507 rows x 54 columns]"
            ],
            "text/html": [
              "\n",
              "  <div id=\"df-840c58eb-d236-4bd7-8a4c-9f6ce180e6c9\">\n",
              "    <div class=\"colab-df-container\">\n",
              "      <div>\n",
              "<style scoped>\n",
              "    .dataframe tbody tr th:only-of-type {\n",
              "        vertical-align: middle;\n",
              "    }\n",
              "\n",
              "    .dataframe tbody tr th {\n",
              "        vertical-align: top;\n",
              "    }\n",
              "\n",
              "    .dataframe thead th {\n",
              "        text-align: right;\n",
              "    }\n",
              "</style>\n",
              "<table border=\"1\" class=\"dataframe\">\n",
              "  <thead>\n",
              "    <tr style=\"text-align: right;\">\n",
              "      <th></th>\n",
              "      <th>subject</th>\n",
              "      <th>object</th>\n",
              "      <th>relation_type</th>\n",
              "      <th>property</th>\n",
              "      <th>en_label_subject</th>\n",
              "      <th>en_label_object</th>\n",
              "      <th>fr_label_subject</th>\n",
              "      <th>fr_label_object</th>\n",
              "      <th>de_label_subject</th>\n",
              "      <th>de_label_object</th>\n",
              "      <th>...</th>\n",
              "      <th>tr_label_subject</th>\n",
              "      <th>tr_label_object</th>\n",
              "      <th>id_label_subject</th>\n",
              "      <th>id_label_object</th>\n",
              "      <th>sr_label_subject</th>\n",
              "      <th>sr_label_object</th>\n",
              "      <th>hu_label_subject</th>\n",
              "      <th>hu_label_object</th>\n",
              "      <th>da_label_subject</th>\n",
              "      <th>da_label_object</th>\n",
              "    </tr>\n",
              "  </thead>\n",
              "  <tbody>\n",
              "    <tr>\n",
              "      <th>0</th>\n",
              "      <td>Q33514</td>\n",
              "      <td>Q19860</td>\n",
              "      <td>hyponym for</td>\n",
              "      <td>P279</td>\n",
              "      <td>Indo-Iranian</td>\n",
              "      <td>Indo-European</td>\n",
              "      <td>langues indo-iraniennes</td>\n",
              "      <td>langues indo-européennes</td>\n",
              "      <td>Indoiranisch</td>\n",
              "      <td>indogermanische Sprachen</td>\n",
              "      <td>...</td>\n",
              "      <td>Hint-İran dilleri</td>\n",
              "      <td>Hint-Avrupa dil ailesi</td>\n",
              "      <td>Rumpun bahasa Indo-Iran</td>\n",
              "      <td>Rumpun bahasa Indo-Eropa</td>\n",
              "      <td>индо-ирански језици</td>\n",
              "      <td>индоевропски језици</td>\n",
              "      <td>indoiráni nyelvek</td>\n",
              "      <td>indoeurópai nyelvcsalád</td>\n",
              "      <td>Indoiranske sprog</td>\n",
              "      <td>indoeuropæiske sprog</td>\n",
              "    </tr>\n",
              "    <tr>\n",
              "      <th>1</th>\n",
              "      <td>Q2736</td>\n",
              "      <td>Q28640</td>\n",
              "      <td>random</td>\n",
              "      <td>random</td>\n",
              "      <td>association football</td>\n",
              "      <td>profession</td>\n",
              "      <td>football</td>\n",
              "      <td>profession</td>\n",
              "      <td>Fußball</td>\n",
              "      <td>Beruf</td>\n",
              "      <td>...</td>\n",
              "      <td>futbol</td>\n",
              "      <td>meslek</td>\n",
              "      <td>sepak bola</td>\n",
              "      <td>profesi</td>\n",
              "      <td>фудбал</td>\n",
              "      <td>занимање</td>\n",
              "      <td>labdarúgás</td>\n",
              "      <td>szakma</td>\n",
              "      <td>fodbold</td>\n",
              "      <td>profession</td>\n",
              "    </tr>\n",
              "    <tr>\n",
              "      <th>2</th>\n",
              "      <td>Q166376</td>\n",
              "      <td>Q172833</td>\n",
              "      <td>random</td>\n",
              "      <td>random</td>\n",
              "      <td>doping in sport</td>\n",
              "      <td>broom</td>\n",
              "      <td>dopage sportif</td>\n",
              "      <td>balai</td>\n",
              "      <td>Doping</td>\n",
              "      <td>Besen</td>\n",
              "      <td>...</td>\n",
              "      <td>Doping</td>\n",
              "      <td>Süpürge</td>\n",
              "      <td>Doping</td>\n",
              "      <td>Sapu</td>\n",
              "      <td>допинг</td>\n",
              "      <td>метла</td>\n",
              "      <td>dopping</td>\n",
              "      <td>seprű</td>\n",
              "      <td>Doping</td>\n",
              "      <td>kost</td>\n",
              "    </tr>\n",
              "    <tr>\n",
              "      <th>3</th>\n",
              "      <td>Q194235</td>\n",
              "      <td>Q44722</td>\n",
              "      <td>hyperonym for</td>\n",
              "      <td>P279_inv</td>\n",
              "      <td>lunisolar calendar</td>\n",
              "      <td>Hebrew calendar</td>\n",
              "      <td>calendrier luni-solaire</td>\n",
              "      <td>calendrier hébraïque</td>\n",
              "      <td>Lunisolarkalender</td>\n",
              "      <td>Jüdischer Kalender</td>\n",
              "      <td>...</td>\n",
              "      <td>lunisolar takvim</td>\n",
              "      <td>İbrani takvimi</td>\n",
              "      <td>Kalender suryacandra</td>\n",
              "      <td>Kalender Ibrani</td>\n",
              "      <td>Лунисоларни календар</td>\n",
              "      <td>Јеврејски календар</td>\n",
              "      <td>Szolunáris naptár</td>\n",
              "      <td>zsidó naptár</td>\n",
              "      <td>lunisolarkalender</td>\n",
              "      <td>Den jødiske kalender</td>\n",
              "    </tr>\n",
              "    <tr>\n",
              "      <th>4</th>\n",
              "      <td>Q93200</td>\n",
              "      <td>Q44602</td>\n",
              "      <td>random</td>\n",
              "      <td>random</td>\n",
              "      <td>sexism</td>\n",
              "      <td>fasting</td>\n",
              "      <td>sexisme</td>\n",
              "      <td>jeûne</td>\n",
              "      <td>Sexismus</td>\n",
              "      <td>Fasten</td>\n",
              "      <td>...</td>\n",
              "      <td>cinsiyetçilik</td>\n",
              "      <td>oruç</td>\n",
              "      <td>seksisme</td>\n",
              "      <td>puasa</td>\n",
              "      <td>сексизам</td>\n",
              "      <td>Пост</td>\n",
              "      <td>szexizmus</td>\n",
              "      <td>böjt</td>\n",
              "      <td>sexisme</td>\n",
              "      <td>Faste</td>\n",
              "    </tr>\n",
              "    <tr>\n",
              "      <th>...</th>\n",
              "      <td>...</td>\n",
              "      <td>...</td>\n",
              "      <td>...</td>\n",
              "      <td>...</td>\n",
              "      <td>...</td>\n",
              "      <td>...</td>\n",
              "      <td>...</td>\n",
              "      <td>...</td>\n",
              "      <td>...</td>\n",
              "      <td>...</td>\n",
              "      <td>...</td>\n",
              "      <td>...</td>\n",
              "      <td>...</td>\n",
              "      <td>...</td>\n",
              "      <td>...</td>\n",
              "      <td>...</td>\n",
              "      <td>...</td>\n",
              "      <td>...</td>\n",
              "      <td>...</td>\n",
              "      <td>...</td>\n",
              "      <td>...</td>\n",
              "    </tr>\n",
              "    <tr>\n",
              "      <th>27502</th>\n",
              "      <td>Q186385</td>\n",
              "      <td>Q56061</td>\n",
              "      <td>random</td>\n",
              "      <td>random</td>\n",
              "      <td>caviar</td>\n",
              "      <td>administrative territorial entity</td>\n",
              "      <td>caviar</td>\n",
              "      <td>entité territoriale administrative</td>\n",
              "      <td>Kaviar</td>\n",
              "      <td>administrativ-territoriale Entität</td>\n",
              "      <td>...</td>\n",
              "      <td>Havyar</td>\n",
              "      <td>idari bölünüş</td>\n",
              "      <td>kaviar</td>\n",
              "      <td>wilayah administratif</td>\n",
              "      <td>Кавијар</td>\n",
              "      <td>управна јединица</td>\n",
              "      <td>kaviár</td>\n",
              "      <td>közigazgatási egység</td>\n",
              "      <td>kaviar</td>\n",
              "      <td>administrativ-territorial enhed</td>\n",
              "    </tr>\n",
              "    <tr>\n",
              "      <th>27503</th>\n",
              "      <td>Q7918</td>\n",
              "      <td>Q6583695</td>\n",
              "      <td>random</td>\n",
              "      <td>random</td>\n",
              "      <td>Bulgarian</td>\n",
              "      <td>thermal expansion</td>\n",
              "      <td>bulgare</td>\n",
              "      <td>dilatation thermique</td>\n",
              "      <td>Bulgarisch</td>\n",
              "      <td>Wärmeausdehnung</td>\n",
              "      <td>...</td>\n",
              "      <td>Bulgarca</td>\n",
              "      <td>Genleşme</td>\n",
              "      <td>Bahasa Bulgaria</td>\n",
              "      <td>Pemuaian</td>\n",
              "      <td>бугарски језик</td>\n",
              "      <td>Termička dilatacija</td>\n",
              "      <td>bolgár</td>\n",
              "      <td>hőtágulás</td>\n",
              "      <td>bulgarsk</td>\n",
              "      <td>Termisk ekspansion</td>\n",
              "    </tr>\n",
              "    <tr>\n",
              "      <th>27504</th>\n",
              "      <td>Q32090</td>\n",
              "      <td>Q152234</td>\n",
              "      <td>random</td>\n",
              "      <td>random</td>\n",
              "      <td>lifestyle</td>\n",
              "      <td>edema</td>\n",
              "      <td>mode de vie</td>\n",
              "      <td>œdème</td>\n",
              "      <td>Lebensstil</td>\n",
              "      <td>Ödem</td>\n",
              "      <td>...</td>\n",
              "      <td>yaşam tarzı</td>\n",
              "      <td>Ödem</td>\n",
              "      <td>gaya hidup</td>\n",
              "      <td>Sembap</td>\n",
              "      <td>животни стил</td>\n",
              "      <td>Otok</td>\n",
              "      <td>életstílus</td>\n",
              "      <td>ödéma</td>\n",
              "      <td>livsstil</td>\n",
              "      <td>ødem</td>\n",
              "    </tr>\n",
              "    <tr>\n",
              "      <th>27505</th>\n",
              "      <td>Q48422</td>\n",
              "      <td>Q845120</td>\n",
              "      <td>random</td>\n",
              "      <td>random</td>\n",
              "      <td>cadaver</td>\n",
              "      <td>segc</td>\n",
              "      <td>cadavre</td>\n",
              "      <td>économie du Brésil</td>\n",
              "      <td>Leichnam</td>\n",
              "      <td>Wirtschaft Brasiliens</td>\n",
              "      <td>...</td>\n",
              "      <td>ceset</td>\n",
              "      <td>Brezilya ekonomisi</td>\n",
              "      <td>jenazah</td>\n",
              "      <td>ekonomi Brasil</td>\n",
              "      <td>леш</td>\n",
              "      <td>привреда Бразила</td>\n",
              "      <td>holttest</td>\n",
              "      <td>Brazília gazdasága</td>\n",
              "      <td>menneskelig</td>\n",
              "      <td>Brasiliens økonomi</td>\n",
              "    </tr>\n",
              "    <tr>\n",
              "      <th>27506</th>\n",
              "      <td>Q8242</td>\n",
              "      <td>Q181784</td>\n",
              "      <td>random</td>\n",
              "      <td>random</td>\n",
              "      <td>literature</td>\n",
              "      <td>human trafficking</td>\n",
              "      <td>littérature</td>\n",
              "      <td>trafic d'êtres humains</td>\n",
              "      <td>Literatur</td>\n",
              "      <td>Menschenhandel</td>\n",
              "      <td>...</td>\n",
              "      <td>edebiyat</td>\n",
              "      <td>İnsan ticareti</td>\n",
              "      <td>sastra</td>\n",
              "      <td>perdagangan manusia</td>\n",
              "      <td>књижевност</td>\n",
              "      <td>трговина људима</td>\n",
              "      <td>irodalom</td>\n",
              "      <td>emberkereskedelem</td>\n",
              "      <td>litteratur</td>\n",
              "      <td>menneskehandel</td>\n",
              "    </tr>\n",
              "  </tbody>\n",
              "</table>\n",
              "<p>27507 rows × 54 columns</p>\n",
              "</div>\n",
              "      <button class=\"colab-df-convert\" onclick=\"convertToInteractive('df-840c58eb-d236-4bd7-8a4c-9f6ce180e6c9')\"\n",
              "              title=\"Convert this dataframe to an interactive table.\"\n",
              "              style=\"display:none;\">\n",
              "        \n",
              "  <svg xmlns=\"http://www.w3.org/2000/svg\" height=\"24px\"viewBox=\"0 0 24 24\"\n",
              "       width=\"24px\">\n",
              "    <path d=\"M0 0h24v24H0V0z\" fill=\"none\"/>\n",
              "    <path d=\"M18.56 5.44l.94 2.06.94-2.06 2.06-.94-2.06-.94-.94-2.06-.94 2.06-2.06.94zm-11 1L8.5 8.5l.94-2.06 2.06-.94-2.06-.94L8.5 2.5l-.94 2.06-2.06.94zm10 10l.94 2.06.94-2.06 2.06-.94-2.06-.94-.94-2.06-.94 2.06-2.06.94z\"/><path d=\"M17.41 7.96l-1.37-1.37c-.4-.4-.92-.59-1.43-.59-.52 0-1.04.2-1.43.59L10.3 9.45l-7.72 7.72c-.78.78-.78 2.05 0 2.83L4 21.41c.39.39.9.59 1.41.59.51 0 1.02-.2 1.41-.59l7.78-7.78 2.81-2.81c.8-.78.8-2.07 0-2.86zM5.41 20L4 18.59l7.72-7.72 1.47 1.35L5.41 20z\"/>\n",
              "  </svg>\n",
              "      </button>\n",
              "      \n",
              "  <style>\n",
              "    .colab-df-container {\n",
              "      display:flex;\n",
              "      flex-wrap:wrap;\n",
              "      gap: 12px;\n",
              "    }\n",
              "\n",
              "    .colab-df-convert {\n",
              "      background-color: #E8F0FE;\n",
              "      border: none;\n",
              "      border-radius: 50%;\n",
              "      cursor: pointer;\n",
              "      display: none;\n",
              "      fill: #1967D2;\n",
              "      height: 32px;\n",
              "      padding: 0 0 0 0;\n",
              "      width: 32px;\n",
              "    }\n",
              "\n",
              "    .colab-df-convert:hover {\n",
              "      background-color: #E2EBFA;\n",
              "      box-shadow: 0px 1px 2px rgba(60, 64, 67, 0.3), 0px 1px 3px 1px rgba(60, 64, 67, 0.15);\n",
              "      fill: #174EA6;\n",
              "    }\n",
              "\n",
              "    [theme=dark] .colab-df-convert {\n",
              "      background-color: #3B4455;\n",
              "      fill: #D2E3FC;\n",
              "    }\n",
              "\n",
              "    [theme=dark] .colab-df-convert:hover {\n",
              "      background-color: #434B5C;\n",
              "      box-shadow: 0px 1px 3px 1px rgba(0, 0, 0, 0.15);\n",
              "      filter: drop-shadow(0px 1px 2px rgba(0, 0, 0, 0.3));\n",
              "      fill: #FFFFFF;\n",
              "    }\n",
              "  </style>\n",
              "\n",
              "      <script>\n",
              "        const buttonEl =\n",
              "          document.querySelector('#df-840c58eb-d236-4bd7-8a4c-9f6ce180e6c9 button.colab-df-convert');\n",
              "        buttonEl.style.display =\n",
              "          google.colab.kernel.accessAllowed ? 'block' : 'none';\n",
              "\n",
              "        async function convertToInteractive(key) {\n",
              "          const element = document.querySelector('#df-840c58eb-d236-4bd7-8a4c-9f6ce180e6c9');\n",
              "          const dataTable =\n",
              "            await google.colab.kernel.invokeFunction('convertToInteractive',\n",
              "                                                     [key], {});\n",
              "          if (!dataTable) return;\n",
              "\n",
              "          const docLinkHtml = 'Like what you see? Visit the ' +\n",
              "            '<a target=\"_blank\" href=https://colab.research.google.com/notebooks/data_table.ipynb>data table notebook</a>'\n",
              "            + ' to learn more about interactive tables.';\n",
              "          element.innerHTML = '';\n",
              "          dataTable['output_type'] = 'display_data';\n",
              "          await google.colab.output.renderOutput(dataTable, element);\n",
              "          const docLink = document.createElement('div');\n",
              "          docLink.innerHTML = docLinkHtml;\n",
              "          element.appendChild(docLink);\n",
              "        }\n",
              "      </script>\n",
              "    </div>\n",
              "  </div>\n",
              "  "
            ]
          },
          "metadata": {},
          "execution_count": 25
        }
      ]
    },
    {
      "cell_type": "code",
      "source": [
        "all_25 = data_25.subject.tolist()\n",
        "all_25.extend(data_25.object.tolist())\n",
        "all_25 = set(all_25)\n",
        "print(len(all_25))\n",
        "print(len(all_concepts))\n",
        "all_25 = all_25.union(all_concepts)\n",
        "print(len(all_25))"
      ],
      "metadata": {
        "colab": {
          "base_uri": "https://localhost:8080/"
        },
        "id": "MIz2YDVJ1KbZ",
        "outputId": "8ef4d169-5689-49bc-e417-251efde0bad0"
      },
      "execution_count": null,
      "outputs": [
        {
          "output_type": "stream",
          "name": "stdout",
          "text": [
            "7231\n",
            "7231\n",
            "7231\n"
          ]
        }
      ]
    },
    {
      "cell_type": "markdown",
      "source": [
        "**Split the complete dataset in train/test according the calculated train/test concepts and remove relations between train and test.**"
      ],
      "metadata": {
        "id": "vGvNaHgEpTjn"
      }
    },
    {
      "cell_type": "code",
      "source": [
        "filter_train = data_25.subject.isin(concepts_train) & data_25.object.isin(concepts_train)\n",
        "filter_test = data_25.subject.isin(concepts_test) & data_25.object.isin(concepts_test)"
      ],
      "metadata": {
        "id": "B8xo2kBNw2o8"
      },
      "execution_count": null,
      "outputs": []
    },
    {
      "cell_type": "code",
      "source": [
        "print(sum(filter_train))\n",
        "print(sum(filter_test))"
      ],
      "metadata": {
        "colab": {
          "base_uri": "https://localhost:8080/"
        },
        "id": "XKivvqdGxYmB",
        "outputId": "152d129d-9cae-4cd8-d9f0-b28b6d340ef0"
      },
      "execution_count": null,
      "outputs": [
        {
          "output_type": "stream",
          "name": "stdout",
          "text": [
            "7616\n",
            "7841\n"
          ]
        }
      ]
    },
    {
      "cell_type": "code",
      "source": [
        "data_25_train = data_25[filter_train]\n",
        "data_25_test = data_25[filter_test]\n",
        "print(data_25_train.shape)\n",
        "print(data_25_test.shape)"
      ],
      "metadata": {
        "colab": {
          "base_uri": "https://localhost:8080/"
        },
        "id": "7noyG1aYyUQI",
        "outputId": "64e61457-b609-4edd-8e05-509dc33d2c2f"
      },
      "execution_count": null,
      "outputs": [
        {
          "output_type": "stream",
          "name": "stdout",
          "text": [
            "(7616, 54)\n",
            "(7841, 54)\n"
          ]
        }
      ]
    },
    {
      "cell_type": "code",
      "source": [
        "import csv\n",
        "data_25_train.to_csv('dataset_L25_train.csv', index=False, quoting=csv.QUOTE_ALL)\n",
        "data_25_test.to_csv('dataset_L25_test.csv', index=False, quoting=csv.QUOTE_ALL)"
      ],
      "metadata": {
        "id": "jHWsSTUZ8mQG"
      },
      "execution_count": null,
      "outputs": []
    },
    {
      "cell_type": "code",
      "source": [
        "sum(data_25_train.relation_type.value_counts()) - data_25_train.relation_type.value_counts()['random']"
      ],
      "metadata": {
        "colab": {
          "base_uri": "https://localhost:8080/"
        },
        "id": "D05mxdzHzXAy",
        "outputId": "75c9b373-7b19-444e-d8b3-25bcdba800a8"
      },
      "execution_count": null,
      "outputs": [
        {
          "output_type": "execute_result",
          "data": {
            "text/plain": [
              "2903"
            ]
          },
          "metadata": {},
          "execution_count": 49
        }
      ]
    },
    {
      "cell_type": "code",
      "source": [
        "print(data_25_train.relation_type.value_counts())\n",
        "print(data_25_train.relation_type.value_counts()/sum(data_25_train.relation_type.value_counts()))\n",
        "\n",
        "print(data_25_test.relation_type.value_counts())\n",
        "print(data_25_test.relation_type.value_counts()/sum(data_25_test.relation_type.value_counts()))\n",
        "\n",
        "print(sum(data_25_train.relation_type.value_counts()[1:]))\n",
        "print(sum(data_25_test.relation_type.value_counts()[1:]))"
      ],
      "metadata": {
        "colab": {
          "base_uri": "https://localhost:8080/"
        },
        "id": "h-qPqo_dze86",
        "outputId": "05623e8c-881f-491f-d281-a766ec39172a"
      },
      "execution_count": null,
      "outputs": [
        {
          "output_type": "stream",
          "name": "stdout",
          "text": [
            "random           4713\n",
            "hyponym for       993\n",
            "hyperonym for     955\n",
            "holonym for       470\n",
            "meronym for       340\n",
            "antonym for       145\n",
            "Name: relation_type, dtype: int64\n",
            "random           0.618829\n",
            "hyponym for      0.130383\n",
            "hyperonym for    0.125394\n",
            "holonym for      0.061712\n",
            "meronym for      0.044643\n",
            "antonym for      0.019039\n",
            "Name: relation_type, dtype: float64\n",
            "random           4833\n",
            "hyperonym for     952\n",
            "hyponym for       888\n",
            "holonym for       691\n",
            "meronym for       354\n",
            "antonym for       123\n",
            "Name: relation_type, dtype: int64\n",
            "random           0.616375\n",
            "hyperonym for    0.121413\n",
            "hyponym for      0.113251\n",
            "holonym for      0.088127\n",
            "meronym for      0.045147\n",
            "antonym for      0.015687\n",
            "Name: relation_type, dtype: float64\n",
            "2903\n",
            "3008\n"
          ]
        }
      ]
    }
  ]
}
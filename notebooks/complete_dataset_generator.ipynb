{
  "nbformat": 4,
  "nbformat_minor": 0,
  "metadata": {
    "colab": {
      "provenance": []
    },
    "kernelspec": {
      "name": "python3",
      "display_name": "Python 3"
    },
    "language_info": {
      "name": "python"
    }
  },
  "cells": [
    {
      "cell_type": "markdown",
      "source": [
        "# **Generating a complete dataset**\n",
        "This notebook generates a file named `dataset_P_L25.csv` in the Google drive of the logged account. Please, change the path in last cell, if you do not want to modify your Google drive.  "
      ],
      "metadata": {
        "id": "c6qHFPiaPnuu"
      }
    },
    {
      "cell_type": "code",
      "source": [
        "from google.colab import drive\n",
        "drive.mount('/content/drive/', force_remount=True)"
      ],
      "metadata": {
        "colab": {
          "base_uri": "https://localhost:8080/"
        },
        "id": "HxRp2bdxcbhL",
        "outputId": "2192696e-14b4-4dd9-aaf8-49823f94fd00"
      },
      "execution_count": null,
      "outputs": [
        {
          "output_type": "stream",
          "name": "stdout",
          "text": [
            "Mounted at /content/drive/\n"
          ]
        }
      ]
    },
    {
      "cell_type": "code",
      "execution_count": null,
      "metadata": {
        "colab": {
          "base_uri": "https://localhost:8080/"
        },
        "id": "Wma4_r2IUP9-",
        "outputId": "a94ca6cc-118d-4a8e-8441-6007d8c3ed48"
      },
      "outputs": [
        {
          "output_type": "stream",
          "name": "stdout",
          "text": [
            "Collecting rpy2==3.5.1\n",
            "  Downloading rpy2-3.5.1.tar.gz (201 kB)\n",
            "\u001b[?25l     \u001b[90m━━━━━━━━━━━━━━━━━━━━━━━━━━━━━━━━━━━━━━━━\u001b[0m \u001b[32m0.0/201.7 kB\u001b[0m \u001b[31m?\u001b[0m eta \u001b[36m-:--:--\u001b[0m\r\u001b[2K     \u001b[91m━━━━━━━━━━━━━━━━━━━━━━━━━━━━━━━━━━━━━\u001b[0m\u001b[91m╸\u001b[0m\u001b[90m━\u001b[0m \u001b[32m194.6/201.7 kB\u001b[0m \u001b[31m6.4 MB/s\u001b[0m eta \u001b[36m0:00:01\u001b[0m\r\u001b[2K     \u001b[90m━━━━━━━━━━━━━━━━━━━━━━━━━━━━━━━━━━━━━━━\u001b[0m \u001b[32m201.7/201.7 kB\u001b[0m \u001b[31m5.2 MB/s\u001b[0m eta \u001b[36m0:00:00\u001b[0m\n",
            "\u001b[?25h  Preparing metadata (setup.py) ... \u001b[?25l\u001b[?25hdone\n",
            "Requirement already satisfied: cffi>=1.10.0 in /usr/local/lib/python3.10/dist-packages (from rpy2==3.5.1) (1.15.1)\n",
            "Requirement already satisfied: jinja2 in /usr/local/lib/python3.10/dist-packages (from rpy2==3.5.1) (3.1.2)\n",
            "Requirement already satisfied: pytz in /usr/local/lib/python3.10/dist-packages (from rpy2==3.5.1) (2022.7.1)\n",
            "Requirement already satisfied: tzlocal in /usr/local/lib/python3.10/dist-packages (from rpy2==3.5.1) (5.0.1)\n",
            "Requirement already satisfied: pycparser in /usr/local/lib/python3.10/dist-packages (from cffi>=1.10.0->rpy2==3.5.1) (2.21)\n",
            "Requirement already satisfied: MarkupSafe>=2.0 in /usr/local/lib/python3.10/dist-packages (from jinja2->rpy2==3.5.1) (2.1.3)\n",
            "Building wheels for collected packages: rpy2\n",
            "  Building wheel for rpy2 (setup.py) ... \u001b[?25l\u001b[?25hdone\n",
            "  Created wheel for rpy2: filename=rpy2-3.5.1-cp310-cp310-linux_x86_64.whl size=318086 sha256=a4c9b45e1517983a7d14d95c9a29349b9120c064da324b9d7426bd6a02bf6744\n",
            "  Stored in directory: /root/.cache/pip/wheels/73/a6/ff/4e75dd1ce1cfa2b9a670cbccf6a1e41c553199e9b25f05d953\n",
            "Successfully built rpy2\n",
            "Installing collected packages: rpy2\n",
            "  Attempting uninstall: rpy2\n",
            "    Found existing installation: rpy2 3.5.5\n",
            "    Uninstalling rpy2-3.5.5:\n",
            "      Successfully uninstalled rpy2-3.5.5\n",
            "Successfully installed rpy2-3.5.1\n"
          ]
        }
      ],
      "source": [
        "!pip install rpy2==3.5.1"
      ]
    },
    {
      "cell_type": "code",
      "source": [
        "%load_ext rpy2.ipython"
      ],
      "metadata": {
        "id": "IeVTx42KUgyq",
        "colab": {
          "base_uri": "https://localhost:8080/"
        },
        "outputId": "42afe41a-ef88-4da9-8093-9fcc84806cfe"
      },
      "execution_count": null,
      "outputs": [
        {
          "output_type": "stream",
          "name": "stdout",
          "text": [
            "The rpy2.ipython extension is already loaded. To reload it, use:\n",
            "  %reload_ext rpy2.ipython\n"
          ]
        }
      ]
    },
    {
      "cell_type": "code",
      "source": [
        "# download semrelations.zip file with all languages and unzip\n",
        "!gdown '1RH8U3TGbUtSuSHk32byeQ2IJ4vn850WT'\n",
        "\n",
        "# if it does not work the above link, uncomment the next line\n",
        "#!wget --load-cookies /tmp/cookies.txt \"https://drive.google.com/uc?export=download&confirm=$(wget --quiet --save-cookies /tmp/cookies.txt --keep-session-cookies --no-check-certificate 'https://drive.google.com/uc?export=download&id=1RH8U3TGbUtSuSHk32byeQ2IJ4vn850WT' -O- | sed -rn 's/.*confirm=([0-9A-Za-z_]+).*/\\1\\n/p')&id=1RH8U3TGbUtSuSHk32byeQ2IJ4vn850WT\" -O results.zip && rm -rf /tmp/cookies.txt\n",
        "\n",
        "!unzip -o semrelations.zip"
      ],
      "metadata": {
        "colab": {
          "base_uri": "https://localhost:8080/"
        },
        "id": "X_ju05a3VQP8",
        "outputId": "dba5fbef-8a25-4279-978a-1f04712dfb59"
      },
      "execution_count": null,
      "outputs": [
        {
          "output_type": "stream",
          "name": "stdout",
          "text": [
            "Downloading...\n",
            "From: https://drive.google.com/uc?id=1RH8U3TGbUtSuSHk32byeQ2IJ4vn850WT\n",
            "To: /content/semrelations.zip\n",
            "100% 477M/477M [00:10<00:00, 46.1MB/s]\n",
            "Archive:  semrelations.zip\n",
            "  inflating: semrelations.csv        \n"
          ]
        }
      ]
    },
    {
      "cell_type": "markdown",
      "source": [
        "### **Load the semrelations.csv dataset**\n",
        "*semrelations.csv* is a csv text file containing in each line:\n",
        "- **subject**: wikidata id for a concept.\n",
        "- **object**: wikidata id for a concept.\n",
        "- **relation_type**: the relation name between subject and object concepts. One of \"antonym for\", \"holonym for\", \"hyperonym for\", \"hyponym for\", \"meronym for\" and \"random\".\n",
        "- **property**: wikidata id for the property that supports the relation type betweeen the concepts.\n",
        "- **[id]_label_subject** and **[id]_label_object**: translation in $40$ languages (where *id* is the ISO language identifier) for the subject and object concepts. If an *\\N* appears, it means that there is no label (translation) for that idiom. The labels for the subject and the object concepts are both equal to \\N or both not \\N."
      ],
      "metadata": {
        "id": "ybPxEZat9LLO"
      }
    },
    {
      "cell_type": "code",
      "source": [
        "%%R\n",
        "data_rels = read.csv(\"semrelations.csv\", encoding = \"utf-8\", na.strings = \"\\\\N\")\n",
        "data_rels$relation_type = as.factor(data_rels$relation_type)"
      ],
      "metadata": {
        "id": "NaVllVPbWPwH"
      },
      "execution_count": null,
      "outputs": []
    },
    {
      "cell_type": "code",
      "source": [
        "%%R\n",
        "nrow(data_rels)"
      ],
      "metadata": {
        "id": "cE8CBpn4dIGt",
        "outputId": "2fcaf523-4e1f-491a-ca41-a5fe712a8ce7",
        "colab": {
          "base_uri": "https://localhost:8080/"
        }
      },
      "execution_count": null,
      "outputs": [
        {
          "output_type": "stream",
          "name": "stdout",
          "text": [
            "[1] 2605088\n"
          ]
        }
      ]
    },
    {
      "cell_type": "markdown",
      "source": [
        "##**Filtering**\n",
        "###**0. Find a *complete* dataset for $N$ languages**\n",
        "A dataset is said to be *complete for $N$ languages* if both the subject and the object concepts have a translation for $N$ languages."
      ],
      "metadata": {
        "id": "y2XPF9qzjxR_"
      }
    },
    {
      "cell_type": "code",
      "source": [
        "%%R\n",
        "columns = names(data_rels)\n",
        "languages = columns[seq(5,length(columns),1)]\n",
        "total_per_lang = sapply(languages, function(c) sum(complete.cases(data_rels[,c])))\n",
        "total_per_lang = sort(total_per_lang, decreasing = T)\n",
        "\n",
        "total_complete = sapply(1:length(total_per_lang),\n",
        "       function(i) sum(complete.cases(data_rels[,names(total_per_lang)[1:i]])))"
      ],
      "metadata": {
        "id": "vW5kzTwGWjzm"
      },
      "execution_count": null,
      "outputs": []
    },
    {
      "cell_type": "code",
      "source": [
        "%%R\n",
        "total_per_lang_viz = as.data.frame(total_per_lang)\n",
        "langs = row.names(total_per_lang_viz)\n",
        "langs = sapply(seq(1,length(langs),2), function(i) gsub(\"_.*\",\"\",langs[i]))\n",
        "total_per_lang_viz = total_per_lang_viz[seq(1,nrow(total_per_lang_viz),2),,drop=F]\n",
        "row.names(total_per_lang_viz) = paste(langs, 1:length(langs), sep = \"_\")\n",
        "\n",
        "per_rel = sapply(names(total_per_lang), function(n) {table(data_rels[complete.cases(data_rels[,n]),c(\"relation_type\",n)]$relation_type)})\n",
        "\n",
        "per_rel = per_rel[,seq(1,ncol(per_rel),2)]\n",
        "total_per_lang_viz = cbind(total_per_lang_viz, t(per_rel))\n",
        "perc_columns = paste(names(total_per_lang_viz[-1]), \"%\")\n",
        "perc_cols = as.data.frame(apply(total_per_lang_viz,1, function(r) r[-1]/r[1]))\n",
        "row.names(perc_cols) = perc_columns\n",
        "\n",
        "total_per_lang_viz =cbind(total_per_lang_viz, t(perc_cols))"
      ],
      "metadata": {
        "id": "U0G1SldUeNwp"
      },
      "execution_count": null,
      "outputs": []
    },
    {
      "cell_type": "code",
      "source": [
        "%R -o total_per_lang_viz\n",
        "total_per_lang_viz"
      ],
      "metadata": {
        "colab": {
          "base_uri": "https://localhost:8080/",
          "height": 1000
        },
        "id": "aP6QOxqAdK3Z",
        "outputId": "c2bc0f1f-5617-40ef-b53d-aee09dc3d3ef"
      },
      "execution_count": null,
      "outputs": [
        {
          "output_type": "execute_result",
          "data": {
            "text/plain": [
              "            total_per_lang  antonym for  holonym for  hyponym for  \\\n",
              "en_1               1759788         8159        74145      1025225   \n",
              "fr_2               1023127         4633        34904       373639   \n",
              "de_3                901217         4399        26055       267670   \n",
              "nl_4                890125         3385        25203       259261   \n",
              "es_5                880311         4444        25223       247108   \n",
              "ru_6                812811         4764        25283       179149   \n",
              "it_7                800372         3094        20545       177609   \n",
              "ja_8                793505         4293        25282       164464   \n",
              "ca_9                788306         3782        18576       166578   \n",
              "zh_10               751241         3208        19576       131328   \n",
              "pt_11               716721         2641        14363       104926   \n",
              "ar_12               711812         2461        13195       100300   \n",
              "sv_13               709935         2612        13746       101628   \n",
              "pl_14               705113         2674        13909        95248   \n",
              "uk_15               703332         2436        14467        90182   \n",
              "cs_16               698787         2713        14165        90181   \n",
              "he_17               664690         2509        11786        67522   \n",
              "fa_18               660009         1561        11191        62376   \n",
              "fi_19               659322         1813        10545        60036   \n",
              "ko_20               655400         2187        12559        58654   \n",
              "tr_21               627821         1506         8744        47200   \n",
              "id_22               623599         1382        10972        46350   \n",
              "sr_23               621953         1595         7403        43440   \n",
              "hu_24               620898         2024         8325        50652   \n",
              "da_25               606609         1577         8110        45550   \n",
              "ro_26               598378         1231         6917        39682   \n",
              "el_27               581131         1202         7146        39843   \n",
              "vi_28               571023         1233         6913        31903   \n",
              "et_29               536521         1145         5403        26285   \n",
              "hr_30               475252          677         3613        18064   \n",
              "zh.hant_31          464979         1427         7723        45152   \n",
              "sk_32               462818          810         4156        17466   \n",
              "ms_33               459183         1137         6188        26775   \n",
              "lt_34               449876          535         3644        15236   \n",
              "lv_35               430597          689         3811        17458   \n",
              "sl_36               420073          674         4533        18369   \n",
              "th_37               399025          587         5085        15200   \n",
              "zh.hans_38          391317         1146         5361        34640   \n",
              "hi_39               338736          561         3455        13400   \n",
              "bs_40               253824          504         2195         8052   \n",
              "is_41               201730          328         1608         5003   \n",
              "no_42                    7            0            0            5   \n",
              "\n",
              "            meronym for  random  antonym for %  holonym for %  hyponym for %  \\\n",
              "en_1              63920  588339       0.004636       0.042133       0.582584   \n",
              "fr_2              22357  587594       0.004528       0.034115       0.365193   \n",
              "de_3              15832  587261       0.004881       0.028911       0.297009   \n",
              "nl_4              14685  587591       0.003803       0.028314       0.291264   \n",
              "es_5              15299  588237       0.005048       0.028652       0.280705   \n",
              "ru_6              15158  588457       0.005861       0.031106       0.220407   \n",
              "it_7              11958  587166       0.003866       0.025669       0.221908   \n",
              "ja_8              14368  585098       0.005410       0.031861       0.207263   \n",
              "ca_9              12393  586977       0.004798       0.023564       0.211311   \n",
              "zh_10             11186  585943       0.004270       0.026058       0.174815   \n",
              "pt_11              8399  586392       0.003685       0.020040       0.146397   \n",
              "ar_12              9581  586275       0.003457       0.018537       0.140908   \n",
              "sv_13              8124  583825       0.003679       0.019362       0.143151   \n",
              "pl_14              8114  585168       0.003792       0.019726       0.135082   \n",
              "uk_15              8488  587759       0.003464       0.020569       0.128221   \n",
              "cs_16              8118  583610       0.003882       0.020271       0.129054   \n",
              "he_17              7174  575699       0.003775       0.017732       0.101584   \n",
              "fa_18              6403  578478       0.002365       0.016956       0.094508   \n",
              "fi_19              5757  581171       0.002750       0.015994       0.091057   \n",
              "ko_20              5801  576199       0.003337       0.019162       0.089493   \n",
              "tr_21              5273  565098       0.002399       0.013928       0.075181   \n",
              "id_22              4852  560043       0.002216       0.017595       0.074327   \n",
              "sr_23              4452  565063       0.002565       0.011903       0.069845   \n",
              "hu_24              5339  554558       0.003260       0.013408       0.081579   \n",
              "da_25              4600  546772       0.002600       0.013369       0.075090   \n",
              "ro_26              3866  546682       0.002057       0.011560       0.066316   \n",
              "el_27              4369  528571       0.002068       0.012297       0.068561   \n",
              "vi_28              3472  527502       0.002159       0.012106       0.055870   \n",
              "et_29              3249  500439       0.002134       0.010070       0.048992   \n",
              "hr_30              2146  450752       0.001425       0.007602       0.038009   \n",
              "zh.hant_31         4877  405800       0.003069       0.016609       0.097105   \n",
              "sk_32              2372  438014       0.001750       0.008980       0.037738   \n",
              "ms_33              3104  421979       0.002476       0.013476       0.058310   \n",
              "lt_34              2127  428334       0.001189       0.008100       0.033867   \n",
              "lv_35              2444  406195       0.001600       0.008851       0.040544   \n",
              "sl_36              2117  394380       0.001604       0.010791       0.043728   \n",
              "th_37              2279  375874       0.001471       0.012744       0.038093   \n",
              "zh.hans_38         2992  347178       0.002929       0.013700       0.088522   \n",
              "hi_39              2281  319039       0.001656       0.010200       0.039559   \n",
              "bs_40              1534  241539       0.001986       0.008648       0.031723   \n",
              "is_41               826  193965       0.001626       0.007971       0.024800   \n",
              "no_42                 0       2       0.000000       0.000000       0.714286   \n",
              "\n",
              "            meronym for %  random %  \n",
              "en_1             0.036323  0.334324  \n",
              "fr_2             0.021852  0.574312  \n",
              "de_3             0.017567  0.651631  \n",
              "nl_4             0.016498  0.660122  \n",
              "es_5             0.017379  0.668215  \n",
              "ru_6             0.018649  0.723978  \n",
              "it_7             0.014941  0.733616  \n",
              "ja_8             0.018107  0.737359  \n",
              "ca_9             0.015721  0.744606  \n",
              "zh_10            0.014890  0.779967  \n",
              "pt_11            0.011719  0.818159  \n",
              "ar_12            0.013460  0.823637  \n",
              "sv_13            0.011443  0.822364  \n",
              "pl_14            0.011507  0.829893  \n",
              "uk_15            0.012068  0.835678  \n",
              "cs_16            0.011617  0.835176  \n",
              "he_17            0.010793  0.866117  \n",
              "fa_18            0.009701  0.876470  \n",
              "fi_19            0.008732  0.881468  \n",
              "ko_20            0.008851  0.879156  \n",
              "tr_21            0.008399  0.900094  \n",
              "id_22            0.007781  0.898082  \n",
              "sr_23            0.007158  0.908530  \n",
              "hu_24            0.008599  0.893155  \n",
              "da_25            0.007583  0.901358  \n",
              "ro_26            0.006461  0.913606  \n",
              "el_27            0.007518  0.909556  \n",
              "vi_28            0.006080  0.923784  \n",
              "et_29            0.006056  0.932748  \n",
              "hr_30            0.004515  0.948448  \n",
              "zh.hant_31       0.010489  0.872728  \n",
              "sk_32            0.005125  0.946407  \n",
              "ms_33            0.006760  0.918978  \n",
              "lt_34            0.004728  0.952116  \n",
              "lv_35            0.005676  0.943330  \n",
              "sl_36            0.005040  0.938837  \n",
              "th_37            0.005711  0.941981  \n",
              "zh.hans_38       0.007646  0.887204  \n",
              "hi_39            0.006734  0.941851  \n",
              "bs_40            0.006044  0.951600  \n",
              "is_41            0.004095  0.961508  \n",
              "no_42            0.000000  0.285714  "
            ],
            "text/html": [
              "\n",
              "  <div id=\"df-431210a3-4e78-4a1b-a6b6-8faaf08abbe7\">\n",
              "    <div class=\"colab-df-container\">\n",
              "      <div>\n",
              "<style scoped>\n",
              "    .dataframe tbody tr th:only-of-type {\n",
              "        vertical-align: middle;\n",
              "    }\n",
              "\n",
              "    .dataframe tbody tr th {\n",
              "        vertical-align: top;\n",
              "    }\n",
              "\n",
              "    .dataframe thead th {\n",
              "        text-align: right;\n",
              "    }\n",
              "</style>\n",
              "<table border=\"1\" class=\"dataframe\">\n",
              "  <thead>\n",
              "    <tr style=\"text-align: right;\">\n",
              "      <th></th>\n",
              "      <th>total_per_lang</th>\n",
              "      <th>antonym for</th>\n",
              "      <th>holonym for</th>\n",
              "      <th>hyponym for</th>\n",
              "      <th>meronym for</th>\n",
              "      <th>random</th>\n",
              "      <th>antonym for %</th>\n",
              "      <th>holonym for %</th>\n",
              "      <th>hyponym for %</th>\n",
              "      <th>meronym for %</th>\n",
              "      <th>random %</th>\n",
              "    </tr>\n",
              "  </thead>\n",
              "  <tbody>\n",
              "    <tr>\n",
              "      <th>en_1</th>\n",
              "      <td>1759788</td>\n",
              "      <td>8159</td>\n",
              "      <td>74145</td>\n",
              "      <td>1025225</td>\n",
              "      <td>63920</td>\n",
              "      <td>588339</td>\n",
              "      <td>0.004636</td>\n",
              "      <td>0.042133</td>\n",
              "      <td>0.582584</td>\n",
              "      <td>0.036323</td>\n",
              "      <td>0.334324</td>\n",
              "    </tr>\n",
              "    <tr>\n",
              "      <th>fr_2</th>\n",
              "      <td>1023127</td>\n",
              "      <td>4633</td>\n",
              "      <td>34904</td>\n",
              "      <td>373639</td>\n",
              "      <td>22357</td>\n",
              "      <td>587594</td>\n",
              "      <td>0.004528</td>\n",
              "      <td>0.034115</td>\n",
              "      <td>0.365193</td>\n",
              "      <td>0.021852</td>\n",
              "      <td>0.574312</td>\n",
              "    </tr>\n",
              "    <tr>\n",
              "      <th>de_3</th>\n",
              "      <td>901217</td>\n",
              "      <td>4399</td>\n",
              "      <td>26055</td>\n",
              "      <td>267670</td>\n",
              "      <td>15832</td>\n",
              "      <td>587261</td>\n",
              "      <td>0.004881</td>\n",
              "      <td>0.028911</td>\n",
              "      <td>0.297009</td>\n",
              "      <td>0.017567</td>\n",
              "      <td>0.651631</td>\n",
              "    </tr>\n",
              "    <tr>\n",
              "      <th>nl_4</th>\n",
              "      <td>890125</td>\n",
              "      <td>3385</td>\n",
              "      <td>25203</td>\n",
              "      <td>259261</td>\n",
              "      <td>14685</td>\n",
              "      <td>587591</td>\n",
              "      <td>0.003803</td>\n",
              "      <td>0.028314</td>\n",
              "      <td>0.291264</td>\n",
              "      <td>0.016498</td>\n",
              "      <td>0.660122</td>\n",
              "    </tr>\n",
              "    <tr>\n",
              "      <th>es_5</th>\n",
              "      <td>880311</td>\n",
              "      <td>4444</td>\n",
              "      <td>25223</td>\n",
              "      <td>247108</td>\n",
              "      <td>15299</td>\n",
              "      <td>588237</td>\n",
              "      <td>0.005048</td>\n",
              "      <td>0.028652</td>\n",
              "      <td>0.280705</td>\n",
              "      <td>0.017379</td>\n",
              "      <td>0.668215</td>\n",
              "    </tr>\n",
              "    <tr>\n",
              "      <th>ru_6</th>\n",
              "      <td>812811</td>\n",
              "      <td>4764</td>\n",
              "      <td>25283</td>\n",
              "      <td>179149</td>\n",
              "      <td>15158</td>\n",
              "      <td>588457</td>\n",
              "      <td>0.005861</td>\n",
              "      <td>0.031106</td>\n",
              "      <td>0.220407</td>\n",
              "      <td>0.018649</td>\n",
              "      <td>0.723978</td>\n",
              "    </tr>\n",
              "    <tr>\n",
              "      <th>it_7</th>\n",
              "      <td>800372</td>\n",
              "      <td>3094</td>\n",
              "      <td>20545</td>\n",
              "      <td>177609</td>\n",
              "      <td>11958</td>\n",
              "      <td>587166</td>\n",
              "      <td>0.003866</td>\n",
              "      <td>0.025669</td>\n",
              "      <td>0.221908</td>\n",
              "      <td>0.014941</td>\n",
              "      <td>0.733616</td>\n",
              "    </tr>\n",
              "    <tr>\n",
              "      <th>ja_8</th>\n",
              "      <td>793505</td>\n",
              "      <td>4293</td>\n",
              "      <td>25282</td>\n",
              "      <td>164464</td>\n",
              "      <td>14368</td>\n",
              "      <td>585098</td>\n",
              "      <td>0.005410</td>\n",
              "      <td>0.031861</td>\n",
              "      <td>0.207263</td>\n",
              "      <td>0.018107</td>\n",
              "      <td>0.737359</td>\n",
              "    </tr>\n",
              "    <tr>\n",
              "      <th>ca_9</th>\n",
              "      <td>788306</td>\n",
              "      <td>3782</td>\n",
              "      <td>18576</td>\n",
              "      <td>166578</td>\n",
              "      <td>12393</td>\n",
              "      <td>586977</td>\n",
              "      <td>0.004798</td>\n",
              "      <td>0.023564</td>\n",
              "      <td>0.211311</td>\n",
              "      <td>0.015721</td>\n",
              "      <td>0.744606</td>\n",
              "    </tr>\n",
              "    <tr>\n",
              "      <th>zh_10</th>\n",
              "      <td>751241</td>\n",
              "      <td>3208</td>\n",
              "      <td>19576</td>\n",
              "      <td>131328</td>\n",
              "      <td>11186</td>\n",
              "      <td>585943</td>\n",
              "      <td>0.004270</td>\n",
              "      <td>0.026058</td>\n",
              "      <td>0.174815</td>\n",
              "      <td>0.014890</td>\n",
              "      <td>0.779967</td>\n",
              "    </tr>\n",
              "    <tr>\n",
              "      <th>pt_11</th>\n",
              "      <td>716721</td>\n",
              "      <td>2641</td>\n",
              "      <td>14363</td>\n",
              "      <td>104926</td>\n",
              "      <td>8399</td>\n",
              "      <td>586392</td>\n",
              "      <td>0.003685</td>\n",
              "      <td>0.020040</td>\n",
              "      <td>0.146397</td>\n",
              "      <td>0.011719</td>\n",
              "      <td>0.818159</td>\n",
              "    </tr>\n",
              "    <tr>\n",
              "      <th>ar_12</th>\n",
              "      <td>711812</td>\n",
              "      <td>2461</td>\n",
              "      <td>13195</td>\n",
              "      <td>100300</td>\n",
              "      <td>9581</td>\n",
              "      <td>586275</td>\n",
              "      <td>0.003457</td>\n",
              "      <td>0.018537</td>\n",
              "      <td>0.140908</td>\n",
              "      <td>0.013460</td>\n",
              "      <td>0.823637</td>\n",
              "    </tr>\n",
              "    <tr>\n",
              "      <th>sv_13</th>\n",
              "      <td>709935</td>\n",
              "      <td>2612</td>\n",
              "      <td>13746</td>\n",
              "      <td>101628</td>\n",
              "      <td>8124</td>\n",
              "      <td>583825</td>\n",
              "      <td>0.003679</td>\n",
              "      <td>0.019362</td>\n",
              "      <td>0.143151</td>\n",
              "      <td>0.011443</td>\n",
              "      <td>0.822364</td>\n",
              "    </tr>\n",
              "    <tr>\n",
              "      <th>pl_14</th>\n",
              "      <td>705113</td>\n",
              "      <td>2674</td>\n",
              "      <td>13909</td>\n",
              "      <td>95248</td>\n",
              "      <td>8114</td>\n",
              "      <td>585168</td>\n",
              "      <td>0.003792</td>\n",
              "      <td>0.019726</td>\n",
              "      <td>0.135082</td>\n",
              "      <td>0.011507</td>\n",
              "      <td>0.829893</td>\n",
              "    </tr>\n",
              "    <tr>\n",
              "      <th>uk_15</th>\n",
              "      <td>703332</td>\n",
              "      <td>2436</td>\n",
              "      <td>14467</td>\n",
              "      <td>90182</td>\n",
              "      <td>8488</td>\n",
              "      <td>587759</td>\n",
              "      <td>0.003464</td>\n",
              "      <td>0.020569</td>\n",
              "      <td>0.128221</td>\n",
              "      <td>0.012068</td>\n",
              "      <td>0.835678</td>\n",
              "    </tr>\n",
              "    <tr>\n",
              "      <th>cs_16</th>\n",
              "      <td>698787</td>\n",
              "      <td>2713</td>\n",
              "      <td>14165</td>\n",
              "      <td>90181</td>\n",
              "      <td>8118</td>\n",
              "      <td>583610</td>\n",
              "      <td>0.003882</td>\n",
              "      <td>0.020271</td>\n",
              "      <td>0.129054</td>\n",
              "      <td>0.011617</td>\n",
              "      <td>0.835176</td>\n",
              "    </tr>\n",
              "    <tr>\n",
              "      <th>he_17</th>\n",
              "      <td>664690</td>\n",
              "      <td>2509</td>\n",
              "      <td>11786</td>\n",
              "      <td>67522</td>\n",
              "      <td>7174</td>\n",
              "      <td>575699</td>\n",
              "      <td>0.003775</td>\n",
              "      <td>0.017732</td>\n",
              "      <td>0.101584</td>\n",
              "      <td>0.010793</td>\n",
              "      <td>0.866117</td>\n",
              "    </tr>\n",
              "    <tr>\n",
              "      <th>fa_18</th>\n",
              "      <td>660009</td>\n",
              "      <td>1561</td>\n",
              "      <td>11191</td>\n",
              "      <td>62376</td>\n",
              "      <td>6403</td>\n",
              "      <td>578478</td>\n",
              "      <td>0.002365</td>\n",
              "      <td>0.016956</td>\n",
              "      <td>0.094508</td>\n",
              "      <td>0.009701</td>\n",
              "      <td>0.876470</td>\n",
              "    </tr>\n",
              "    <tr>\n",
              "      <th>fi_19</th>\n",
              "      <td>659322</td>\n",
              "      <td>1813</td>\n",
              "      <td>10545</td>\n",
              "      <td>60036</td>\n",
              "      <td>5757</td>\n",
              "      <td>581171</td>\n",
              "      <td>0.002750</td>\n",
              "      <td>0.015994</td>\n",
              "      <td>0.091057</td>\n",
              "      <td>0.008732</td>\n",
              "      <td>0.881468</td>\n",
              "    </tr>\n",
              "    <tr>\n",
              "      <th>ko_20</th>\n",
              "      <td>655400</td>\n",
              "      <td>2187</td>\n",
              "      <td>12559</td>\n",
              "      <td>58654</td>\n",
              "      <td>5801</td>\n",
              "      <td>576199</td>\n",
              "      <td>0.003337</td>\n",
              "      <td>0.019162</td>\n",
              "      <td>0.089493</td>\n",
              "      <td>0.008851</td>\n",
              "      <td>0.879156</td>\n",
              "    </tr>\n",
              "    <tr>\n",
              "      <th>tr_21</th>\n",
              "      <td>627821</td>\n",
              "      <td>1506</td>\n",
              "      <td>8744</td>\n",
              "      <td>47200</td>\n",
              "      <td>5273</td>\n",
              "      <td>565098</td>\n",
              "      <td>0.002399</td>\n",
              "      <td>0.013928</td>\n",
              "      <td>0.075181</td>\n",
              "      <td>0.008399</td>\n",
              "      <td>0.900094</td>\n",
              "    </tr>\n",
              "    <tr>\n",
              "      <th>id_22</th>\n",
              "      <td>623599</td>\n",
              "      <td>1382</td>\n",
              "      <td>10972</td>\n",
              "      <td>46350</td>\n",
              "      <td>4852</td>\n",
              "      <td>560043</td>\n",
              "      <td>0.002216</td>\n",
              "      <td>0.017595</td>\n",
              "      <td>0.074327</td>\n",
              "      <td>0.007781</td>\n",
              "      <td>0.898082</td>\n",
              "    </tr>\n",
              "    <tr>\n",
              "      <th>sr_23</th>\n",
              "      <td>621953</td>\n",
              "      <td>1595</td>\n",
              "      <td>7403</td>\n",
              "      <td>43440</td>\n",
              "      <td>4452</td>\n",
              "      <td>565063</td>\n",
              "      <td>0.002565</td>\n",
              "      <td>0.011903</td>\n",
              "      <td>0.069845</td>\n",
              "      <td>0.007158</td>\n",
              "      <td>0.908530</td>\n",
              "    </tr>\n",
              "    <tr>\n",
              "      <th>hu_24</th>\n",
              "      <td>620898</td>\n",
              "      <td>2024</td>\n",
              "      <td>8325</td>\n",
              "      <td>50652</td>\n",
              "      <td>5339</td>\n",
              "      <td>554558</td>\n",
              "      <td>0.003260</td>\n",
              "      <td>0.013408</td>\n",
              "      <td>0.081579</td>\n",
              "      <td>0.008599</td>\n",
              "      <td>0.893155</td>\n",
              "    </tr>\n",
              "    <tr>\n",
              "      <th>da_25</th>\n",
              "      <td>606609</td>\n",
              "      <td>1577</td>\n",
              "      <td>8110</td>\n",
              "      <td>45550</td>\n",
              "      <td>4600</td>\n",
              "      <td>546772</td>\n",
              "      <td>0.002600</td>\n",
              "      <td>0.013369</td>\n",
              "      <td>0.075090</td>\n",
              "      <td>0.007583</td>\n",
              "      <td>0.901358</td>\n",
              "    </tr>\n",
              "    <tr>\n",
              "      <th>ro_26</th>\n",
              "      <td>598378</td>\n",
              "      <td>1231</td>\n",
              "      <td>6917</td>\n",
              "      <td>39682</td>\n",
              "      <td>3866</td>\n",
              "      <td>546682</td>\n",
              "      <td>0.002057</td>\n",
              "      <td>0.011560</td>\n",
              "      <td>0.066316</td>\n",
              "      <td>0.006461</td>\n",
              "      <td>0.913606</td>\n",
              "    </tr>\n",
              "    <tr>\n",
              "      <th>el_27</th>\n",
              "      <td>581131</td>\n",
              "      <td>1202</td>\n",
              "      <td>7146</td>\n",
              "      <td>39843</td>\n",
              "      <td>4369</td>\n",
              "      <td>528571</td>\n",
              "      <td>0.002068</td>\n",
              "      <td>0.012297</td>\n",
              "      <td>0.068561</td>\n",
              "      <td>0.007518</td>\n",
              "      <td>0.909556</td>\n",
              "    </tr>\n",
              "    <tr>\n",
              "      <th>vi_28</th>\n",
              "      <td>571023</td>\n",
              "      <td>1233</td>\n",
              "      <td>6913</td>\n",
              "      <td>31903</td>\n",
              "      <td>3472</td>\n",
              "      <td>527502</td>\n",
              "      <td>0.002159</td>\n",
              "      <td>0.012106</td>\n",
              "      <td>0.055870</td>\n",
              "      <td>0.006080</td>\n",
              "      <td>0.923784</td>\n",
              "    </tr>\n",
              "    <tr>\n",
              "      <th>et_29</th>\n",
              "      <td>536521</td>\n",
              "      <td>1145</td>\n",
              "      <td>5403</td>\n",
              "      <td>26285</td>\n",
              "      <td>3249</td>\n",
              "      <td>500439</td>\n",
              "      <td>0.002134</td>\n",
              "      <td>0.010070</td>\n",
              "      <td>0.048992</td>\n",
              "      <td>0.006056</td>\n",
              "      <td>0.932748</td>\n",
              "    </tr>\n",
              "    <tr>\n",
              "      <th>hr_30</th>\n",
              "      <td>475252</td>\n",
              "      <td>677</td>\n",
              "      <td>3613</td>\n",
              "      <td>18064</td>\n",
              "      <td>2146</td>\n",
              "      <td>450752</td>\n",
              "      <td>0.001425</td>\n",
              "      <td>0.007602</td>\n",
              "      <td>0.038009</td>\n",
              "      <td>0.004515</td>\n",
              "      <td>0.948448</td>\n",
              "    </tr>\n",
              "    <tr>\n",
              "      <th>zh.hant_31</th>\n",
              "      <td>464979</td>\n",
              "      <td>1427</td>\n",
              "      <td>7723</td>\n",
              "      <td>45152</td>\n",
              "      <td>4877</td>\n",
              "      <td>405800</td>\n",
              "      <td>0.003069</td>\n",
              "      <td>0.016609</td>\n",
              "      <td>0.097105</td>\n",
              "      <td>0.010489</td>\n",
              "      <td>0.872728</td>\n",
              "    </tr>\n",
              "    <tr>\n",
              "      <th>sk_32</th>\n",
              "      <td>462818</td>\n",
              "      <td>810</td>\n",
              "      <td>4156</td>\n",
              "      <td>17466</td>\n",
              "      <td>2372</td>\n",
              "      <td>438014</td>\n",
              "      <td>0.001750</td>\n",
              "      <td>0.008980</td>\n",
              "      <td>0.037738</td>\n",
              "      <td>0.005125</td>\n",
              "      <td>0.946407</td>\n",
              "    </tr>\n",
              "    <tr>\n",
              "      <th>ms_33</th>\n",
              "      <td>459183</td>\n",
              "      <td>1137</td>\n",
              "      <td>6188</td>\n",
              "      <td>26775</td>\n",
              "      <td>3104</td>\n",
              "      <td>421979</td>\n",
              "      <td>0.002476</td>\n",
              "      <td>0.013476</td>\n",
              "      <td>0.058310</td>\n",
              "      <td>0.006760</td>\n",
              "      <td>0.918978</td>\n",
              "    </tr>\n",
              "    <tr>\n",
              "      <th>lt_34</th>\n",
              "      <td>449876</td>\n",
              "      <td>535</td>\n",
              "      <td>3644</td>\n",
              "      <td>15236</td>\n",
              "      <td>2127</td>\n",
              "      <td>428334</td>\n",
              "      <td>0.001189</td>\n",
              "      <td>0.008100</td>\n",
              "      <td>0.033867</td>\n",
              "      <td>0.004728</td>\n",
              "      <td>0.952116</td>\n",
              "    </tr>\n",
              "    <tr>\n",
              "      <th>lv_35</th>\n",
              "      <td>430597</td>\n",
              "      <td>689</td>\n",
              "      <td>3811</td>\n",
              "      <td>17458</td>\n",
              "      <td>2444</td>\n",
              "      <td>406195</td>\n",
              "      <td>0.001600</td>\n",
              "      <td>0.008851</td>\n",
              "      <td>0.040544</td>\n",
              "      <td>0.005676</td>\n",
              "      <td>0.943330</td>\n",
              "    </tr>\n",
              "    <tr>\n",
              "      <th>sl_36</th>\n",
              "      <td>420073</td>\n",
              "      <td>674</td>\n",
              "      <td>4533</td>\n",
              "      <td>18369</td>\n",
              "      <td>2117</td>\n",
              "      <td>394380</td>\n",
              "      <td>0.001604</td>\n",
              "      <td>0.010791</td>\n",
              "      <td>0.043728</td>\n",
              "      <td>0.005040</td>\n",
              "      <td>0.938837</td>\n",
              "    </tr>\n",
              "    <tr>\n",
              "      <th>th_37</th>\n",
              "      <td>399025</td>\n",
              "      <td>587</td>\n",
              "      <td>5085</td>\n",
              "      <td>15200</td>\n",
              "      <td>2279</td>\n",
              "      <td>375874</td>\n",
              "      <td>0.001471</td>\n",
              "      <td>0.012744</td>\n",
              "      <td>0.038093</td>\n",
              "      <td>0.005711</td>\n",
              "      <td>0.941981</td>\n",
              "    </tr>\n",
              "    <tr>\n",
              "      <th>zh.hans_38</th>\n",
              "      <td>391317</td>\n",
              "      <td>1146</td>\n",
              "      <td>5361</td>\n",
              "      <td>34640</td>\n",
              "      <td>2992</td>\n",
              "      <td>347178</td>\n",
              "      <td>0.002929</td>\n",
              "      <td>0.013700</td>\n",
              "      <td>0.088522</td>\n",
              "      <td>0.007646</td>\n",
              "      <td>0.887204</td>\n",
              "    </tr>\n",
              "    <tr>\n",
              "      <th>hi_39</th>\n",
              "      <td>338736</td>\n",
              "      <td>561</td>\n",
              "      <td>3455</td>\n",
              "      <td>13400</td>\n",
              "      <td>2281</td>\n",
              "      <td>319039</td>\n",
              "      <td>0.001656</td>\n",
              "      <td>0.010200</td>\n",
              "      <td>0.039559</td>\n",
              "      <td>0.006734</td>\n",
              "      <td>0.941851</td>\n",
              "    </tr>\n",
              "    <tr>\n",
              "      <th>bs_40</th>\n",
              "      <td>253824</td>\n",
              "      <td>504</td>\n",
              "      <td>2195</td>\n",
              "      <td>8052</td>\n",
              "      <td>1534</td>\n",
              "      <td>241539</td>\n",
              "      <td>0.001986</td>\n",
              "      <td>0.008648</td>\n",
              "      <td>0.031723</td>\n",
              "      <td>0.006044</td>\n",
              "      <td>0.951600</td>\n",
              "    </tr>\n",
              "    <tr>\n",
              "      <th>is_41</th>\n",
              "      <td>201730</td>\n",
              "      <td>328</td>\n",
              "      <td>1608</td>\n",
              "      <td>5003</td>\n",
              "      <td>826</td>\n",
              "      <td>193965</td>\n",
              "      <td>0.001626</td>\n",
              "      <td>0.007971</td>\n",
              "      <td>0.024800</td>\n",
              "      <td>0.004095</td>\n",
              "      <td>0.961508</td>\n",
              "    </tr>\n",
              "    <tr>\n",
              "      <th>no_42</th>\n",
              "      <td>7</td>\n",
              "      <td>0</td>\n",
              "      <td>0</td>\n",
              "      <td>5</td>\n",
              "      <td>0</td>\n",
              "      <td>2</td>\n",
              "      <td>0.000000</td>\n",
              "      <td>0.000000</td>\n",
              "      <td>0.714286</td>\n",
              "      <td>0.000000</td>\n",
              "      <td>0.285714</td>\n",
              "    </tr>\n",
              "  </tbody>\n",
              "</table>\n",
              "</div>\n",
              "      <button class=\"colab-df-convert\" onclick=\"convertToInteractive('df-431210a3-4e78-4a1b-a6b6-8faaf08abbe7')\"\n",
              "              title=\"Convert this dataframe to an interactive table.\"\n",
              "              style=\"display:none;\">\n",
              "        \n",
              "  <svg xmlns=\"http://www.w3.org/2000/svg\" height=\"24px\"viewBox=\"0 0 24 24\"\n",
              "       width=\"24px\">\n",
              "    <path d=\"M0 0h24v24H0V0z\" fill=\"none\"/>\n",
              "    <path d=\"M18.56 5.44l.94 2.06.94-2.06 2.06-.94-2.06-.94-.94-2.06-.94 2.06-2.06.94zm-11 1L8.5 8.5l.94-2.06 2.06-.94-2.06-.94L8.5 2.5l-.94 2.06-2.06.94zm10 10l.94 2.06.94-2.06 2.06-.94-2.06-.94-.94-2.06-.94 2.06-2.06.94z\"/><path d=\"M17.41 7.96l-1.37-1.37c-.4-.4-.92-.59-1.43-.59-.52 0-1.04.2-1.43.59L10.3 9.45l-7.72 7.72c-.78.78-.78 2.05 0 2.83L4 21.41c.39.39.9.59 1.41.59.51 0 1.02-.2 1.41-.59l7.78-7.78 2.81-2.81c.8-.78.8-2.07 0-2.86zM5.41 20L4 18.59l7.72-7.72 1.47 1.35L5.41 20z\"/>\n",
              "  </svg>\n",
              "      </button>\n",
              "      \n",
              "  <style>\n",
              "    .colab-df-container {\n",
              "      display:flex;\n",
              "      flex-wrap:wrap;\n",
              "      gap: 12px;\n",
              "    }\n",
              "\n",
              "    .colab-df-convert {\n",
              "      background-color: #E8F0FE;\n",
              "      border: none;\n",
              "      border-radius: 50%;\n",
              "      cursor: pointer;\n",
              "      display: none;\n",
              "      fill: #1967D2;\n",
              "      height: 32px;\n",
              "      padding: 0 0 0 0;\n",
              "      width: 32px;\n",
              "    }\n",
              "\n",
              "    .colab-df-convert:hover {\n",
              "      background-color: #E2EBFA;\n",
              "      box-shadow: 0px 1px 2px rgba(60, 64, 67, 0.3), 0px 1px 3px 1px rgba(60, 64, 67, 0.15);\n",
              "      fill: #174EA6;\n",
              "    }\n",
              "\n",
              "    [theme=dark] .colab-df-convert {\n",
              "      background-color: #3B4455;\n",
              "      fill: #D2E3FC;\n",
              "    }\n",
              "\n",
              "    [theme=dark] .colab-df-convert:hover {\n",
              "      background-color: #434B5C;\n",
              "      box-shadow: 0px 1px 3px 1px rgba(0, 0, 0, 0.15);\n",
              "      filter: drop-shadow(0px 1px 2px rgba(0, 0, 0, 0.3));\n",
              "      fill: #FFFFFF;\n",
              "    }\n",
              "  </style>\n",
              "\n",
              "      <script>\n",
              "        const buttonEl =\n",
              "          document.querySelector('#df-431210a3-4e78-4a1b-a6b6-8faaf08abbe7 button.colab-df-convert');\n",
              "        buttonEl.style.display =\n",
              "          google.colab.kernel.accessAllowed ? 'block' : 'none';\n",
              "\n",
              "        async function convertToInteractive(key) {\n",
              "          const element = document.querySelector('#df-431210a3-4e78-4a1b-a6b6-8faaf08abbe7');\n",
              "          const dataTable =\n",
              "            await google.colab.kernel.invokeFunction('convertToInteractive',\n",
              "                                                     [key], {});\n",
              "          if (!dataTable) return;\n",
              "\n",
              "          const docLinkHtml = 'Like what you see? Visit the ' +\n",
              "            '<a target=\"_blank\" href=https://colab.research.google.com/notebooks/data_table.ipynb>data table notebook</a>'\n",
              "            + ' to learn more about interactive tables.';\n",
              "          element.innerHTML = '';\n",
              "          dataTable['output_type'] = 'display_data';\n",
              "          await google.colab.output.renderOutput(dataTable, element);\n",
              "          const docLink = document.createElement('div');\n",
              "          docLink.innerHTML = docLinkHtml;\n",
              "          element.appendChild(docLink);\n",
              "        }\n",
              "      </script>\n",
              "    </div>\n",
              "  </div>\n",
              "  "
            ]
          },
          "metadata": {},
          "execution_count": 10
        }
      ]
    },
    {
      "cell_type": "code",
      "source": [
        "%%R\n",
        "# Get a \"complete\" dataset with TOTAL_LANGUAGES languages (gready heuristic)\n",
        "\n",
        "TOTAL_LANGUAGES = 25\n",
        "ind = 2*TOTAL_LANGUAGES\n",
        "\n",
        "complete = complete.cases(data_rels[,names(total_per_lang)[1:ind]])\n",
        "data_filt_0 = data_rels[complete,c(\"subject\",\"object\",\"relation_type\", \"property\", names(total_per_lang)[1:ind])]\n",
        "\n",
        "total_rel_0 = sapply(levels(data_filt_0$relation_type), function (r) sum(data_filt_0$relation == r))\n",
        "stats_dataset_0 = as.data.frame(total_rel_0)\n",
        "stats_dataset_0$percentage = stats_dataset_0$total_rel/sum(total_rel_0)\n",
        "print(total_rel_0)\n",
        "print(sum(total_rel_0))"
      ],
      "metadata": {
        "id": "4fRn_eRcWxDh",
        "colab": {
          "base_uri": "https://localhost:8080/"
        },
        "outputId": "1b5b3e0b-b79b-4349-efe3-b6bc355f494a"
      },
      "execution_count": null,
      "outputs": [
        {
          "output_type": "stream",
          "name": "stdout",
          "text": [
            "antonym for holonym for hyponym for meronym for      random \n",
            "        335        1873        5819        1042      412893 \n",
            "[1] 421962\n"
          ]
        }
      ]
    },
    {
      "cell_type": "code",
      "source": [
        "# move R variable to python\n",
        "%R -o stats_dataset_0\n",
        "stats_dataset_0"
      ],
      "metadata": {
        "colab": {
          "base_uri": "https://localhost:8080/",
          "height": 206
        },
        "id": "LcwU0hlrYOzw",
        "outputId": "872d4a05-3013-4080-a190-07833cb029cb"
      },
      "execution_count": null,
      "outputs": [
        {
          "output_type": "execute_result",
          "data": {
            "text/plain": [
              "             total_rel_0  percentage\n",
              "antonym for          335    0.000794\n",
              "holonym for         1873    0.004439\n",
              "hyponym for         5819    0.013790\n",
              "meronym for         1042    0.002469\n",
              "random            412893    0.978508"
            ],
            "text/html": [
              "\n",
              "  <div id=\"df-7243f86b-b8b8-4c98-b8d0-97213c7b243a\">\n",
              "    <div class=\"colab-df-container\">\n",
              "      <div>\n",
              "<style scoped>\n",
              "    .dataframe tbody tr th:only-of-type {\n",
              "        vertical-align: middle;\n",
              "    }\n",
              "\n",
              "    .dataframe tbody tr th {\n",
              "        vertical-align: top;\n",
              "    }\n",
              "\n",
              "    .dataframe thead th {\n",
              "        text-align: right;\n",
              "    }\n",
              "</style>\n",
              "<table border=\"1\" class=\"dataframe\">\n",
              "  <thead>\n",
              "    <tr style=\"text-align: right;\">\n",
              "      <th></th>\n",
              "      <th>total_rel_0</th>\n",
              "      <th>percentage</th>\n",
              "    </tr>\n",
              "  </thead>\n",
              "  <tbody>\n",
              "    <tr>\n",
              "      <th>antonym for</th>\n",
              "      <td>335</td>\n",
              "      <td>0.000794</td>\n",
              "    </tr>\n",
              "    <tr>\n",
              "      <th>holonym for</th>\n",
              "      <td>1873</td>\n",
              "      <td>0.004439</td>\n",
              "    </tr>\n",
              "    <tr>\n",
              "      <th>hyponym for</th>\n",
              "      <td>5819</td>\n",
              "      <td>0.013790</td>\n",
              "    </tr>\n",
              "    <tr>\n",
              "      <th>meronym for</th>\n",
              "      <td>1042</td>\n",
              "      <td>0.002469</td>\n",
              "    </tr>\n",
              "    <tr>\n",
              "      <th>random</th>\n",
              "      <td>412893</td>\n",
              "      <td>0.978508</td>\n",
              "    </tr>\n",
              "  </tbody>\n",
              "</table>\n",
              "</div>\n",
              "      <button class=\"colab-df-convert\" onclick=\"convertToInteractive('df-7243f86b-b8b8-4c98-b8d0-97213c7b243a')\"\n",
              "              title=\"Convert this dataframe to an interactive table.\"\n",
              "              style=\"display:none;\">\n",
              "        \n",
              "  <svg xmlns=\"http://www.w3.org/2000/svg\" height=\"24px\"viewBox=\"0 0 24 24\"\n",
              "       width=\"24px\">\n",
              "    <path d=\"M0 0h24v24H0V0z\" fill=\"none\"/>\n",
              "    <path d=\"M18.56 5.44l.94 2.06.94-2.06 2.06-.94-2.06-.94-.94-2.06-.94 2.06-2.06.94zm-11 1L8.5 8.5l.94-2.06 2.06-.94-2.06-.94L8.5 2.5l-.94 2.06-2.06.94zm10 10l.94 2.06.94-2.06 2.06-.94-2.06-.94-.94-2.06-.94 2.06-2.06.94z\"/><path d=\"M17.41 7.96l-1.37-1.37c-.4-.4-.92-.59-1.43-.59-.52 0-1.04.2-1.43.59L10.3 9.45l-7.72 7.72c-.78.78-.78 2.05 0 2.83L4 21.41c.39.39.9.59 1.41.59.51 0 1.02-.2 1.41-.59l7.78-7.78 2.81-2.81c.8-.78.8-2.07 0-2.86zM5.41 20L4 18.59l7.72-7.72 1.47 1.35L5.41 20z\"/>\n",
              "  </svg>\n",
              "      </button>\n",
              "      \n",
              "  <style>\n",
              "    .colab-df-container {\n",
              "      display:flex;\n",
              "      flex-wrap:wrap;\n",
              "      gap: 12px;\n",
              "    }\n",
              "\n",
              "    .colab-df-convert {\n",
              "      background-color: #E8F0FE;\n",
              "      border: none;\n",
              "      border-radius: 50%;\n",
              "      cursor: pointer;\n",
              "      display: none;\n",
              "      fill: #1967D2;\n",
              "      height: 32px;\n",
              "      padding: 0 0 0 0;\n",
              "      width: 32px;\n",
              "    }\n",
              "\n",
              "    .colab-df-convert:hover {\n",
              "      background-color: #E2EBFA;\n",
              "      box-shadow: 0px 1px 2px rgba(60, 64, 67, 0.3), 0px 1px 3px 1px rgba(60, 64, 67, 0.15);\n",
              "      fill: #174EA6;\n",
              "    }\n",
              "\n",
              "    [theme=dark] .colab-df-convert {\n",
              "      background-color: #3B4455;\n",
              "      fill: #D2E3FC;\n",
              "    }\n",
              "\n",
              "    [theme=dark] .colab-df-convert:hover {\n",
              "      background-color: #434B5C;\n",
              "      box-shadow: 0px 1px 3px 1px rgba(0, 0, 0, 0.15);\n",
              "      filter: drop-shadow(0px 1px 2px rgba(0, 0, 0, 0.3));\n",
              "      fill: #FFFFFF;\n",
              "    }\n",
              "  </style>\n",
              "\n",
              "      <script>\n",
              "        const buttonEl =\n",
              "          document.querySelector('#df-7243f86b-b8b8-4c98-b8d0-97213c7b243a button.colab-df-convert');\n",
              "        buttonEl.style.display =\n",
              "          google.colab.kernel.accessAllowed ? 'block' : 'none';\n",
              "\n",
              "        async function convertToInteractive(key) {\n",
              "          const element = document.querySelector('#df-7243f86b-b8b8-4c98-b8d0-97213c7b243a');\n",
              "          const dataTable =\n",
              "            await google.colab.kernel.invokeFunction('convertToInteractive',\n",
              "                                                     [key], {});\n",
              "          if (!dataTable) return;\n",
              "\n",
              "          const docLinkHtml = 'Like what you see? Visit the ' +\n",
              "            '<a target=\"_blank\" href=https://colab.research.google.com/notebooks/data_table.ipynb>data table notebook</a>'\n",
              "            + ' to learn more about interactive tables.';\n",
              "          element.innerHTML = '';\n",
              "          dataTable['output_type'] = 'display_data';\n",
              "          await google.colab.output.renderOutput(dataTable, element);\n",
              "          const docLink = document.createElement('div');\n",
              "          docLink.innerHTML = docLinkHtml;\n",
              "          element.appendChild(docLink);\n",
              "        }\n",
              "      </script>\n",
              "    </div>\n",
              "  </div>\n",
              "  "
            ]
          },
          "metadata": {},
          "execution_count": 12
        }
      ]
    },
    {
      "cell_type": "markdown",
      "source": [
        "####**Check digit occurrences**"
      ],
      "metadata": {
        "id": "P2AsYBLJV23I"
      }
    },
    {
      "cell_type": "code",
      "source": [
        "%%R\n",
        "digits_re = \"[0-9]+\"\n",
        "\n",
        "digits_indx = apply(data_filt_0[,5:ncol(data_filt_0)], 2, function(c) grepl(digits_re, c))"
      ],
      "metadata": {
        "id": "0CccKab7LWSE"
      },
      "execution_count": null,
      "outputs": []
    },
    {
      "cell_type": "code",
      "source": [
        "%%R\n",
        "total_digits_per_lang = apply(digits_indx, 2, sum)\n",
        "total_digits_per_lang"
      ],
      "metadata": {
        "colab": {
          "base_uri": "https://localhost:8080/"
        },
        "id": "4gJfhOzBLxiV",
        "outputId": "240c219e-03f6-4df2-c816-5208663fd9b2"
      },
      "execution_count": null,
      "outputs": [
        {
          "output_type": "stream",
          "name": "stdout",
          "text": [
            "en_label_subject  en_label_object fr_label_subject  fr_label_object \n",
            "               0                0                0                0 \n",
            "de_label_subject  de_label_object nl_label_subject  nl_label_object \n",
            "               0                0                0                0 \n",
            "es_label_subject  es_label_object ru_label_subject  ru_label_object \n",
            "               0                0                0                0 \n",
            "it_label_subject  it_label_object ja_label_subject  ja_label_object \n",
            "               0                0                0                0 \n",
            "ca_label_subject  ca_label_object zh_label_subject  zh_label_object \n",
            "               0                0                0                0 \n",
            "pt_label_subject  pt_label_object ar_label_subject  ar_label_object \n",
            "               0                0                0                0 \n",
            "sv_label_subject  sv_label_object pl_label_subject  pl_label_object \n",
            "               0                0                0                0 \n",
            "uk_label_subject  uk_label_object cs_label_subject  cs_label_object \n",
            "               0                0                0                0 \n",
            "he_label_subject  he_label_object fa_label_subject  fa_label_object \n",
            "               0                0                0                0 \n",
            "fi_label_subject  fi_label_object ko_label_subject  ko_label_object \n",
            "               0                0                0                0 \n",
            "tr_label_subject  tr_label_object id_label_subject  id_label_object \n",
            "               0                0                0                0 \n",
            "sr_label_subject  sr_label_object hu_label_subject  hu_label_object \n",
            "               0                0                0                0 \n",
            "da_label_subject  da_label_object \n",
            "               0                0 \n"
          ]
        }
      ]
    },
    {
      "cell_type": "markdown",
      "source": [
        "###**1. Remove one character concepts**\n",
        "It is used English to check it."
      ],
      "metadata": {
        "id": "DHWsr0EweHHO"
      }
    },
    {
      "cell_type": "code",
      "source": [
        "%%R\n",
        "# remove one character\n",
        "one_char_indx_subj = grepl(\"^.$\", data_filt_0[,5])\n",
        "one_char_indx_obj = grepl(\"^.$\", data_filt_0[,6])\n",
        "print(sum(one_char_indx_subj))\n",
        "print(sum(one_char_indx_obj))\n",
        "\n",
        "one_char_concepts = unique(c(data_filt_0[one_char_indx_subj,5],data_filt_0[one_char_indx_obj,6]))\n",
        "print(length(one_char_concepts))\n",
        "print(one_char_concepts)"
      ],
      "metadata": {
        "colab": {
          "base_uri": "https://localhost:8080/"
        },
        "id": "ybAnpqJCc43M",
        "outputId": "d16e6be6-5ccc-4af9-9b2b-f530a04a66f9"
      },
      "execution_count": null,
      "outputs": [
        {
          "output_type": "stream",
          "name": "stdout",
          "text": [
            "[1] 1106\n",
            "[1] 767\n",
            "[1] 15\n",
            " [1] \"↓\"  \"T\"  \"ª\"  \"º\"  \"ڧ\"  \"᠁\"  \"⋰\"  \"٭\"  \"⋮\"  \"◊\"  \"‐\"  \"⋯\"  \"︙\" \"⋱\"  \"…\" \n"
          ]
        }
      ]
    },
    {
      "cell_type": "code",
      "source": [
        "%%R\n",
        "data_filt_1 = data_filt_0[!one_char_indx_subj & !one_char_indx_obj,]\n",
        "one_char_indx = grepl(\"^.$\", c(data_filt_1[,5],data_filt_1[,6]))\n",
        "sum(one_char_indx)"
      ],
      "metadata": {
        "colab": {
          "base_uri": "https://localhost:8080/"
        },
        "id": "5U1jWq0cd6ud",
        "outputId": "ae43c8a2-23aa-4de0-8784-3adfc7a239a1"
      },
      "execution_count": null,
      "outputs": [
        {
          "output_type": "stream",
          "name": "stdout",
          "text": [
            "[1] 0\n"
          ]
        }
      ]
    },
    {
      "cell_type": "code",
      "source": [
        "%%R\n",
        "total_rel_1 = sapply(levels(data_filt_1$relation_type), function (r) sum(data_filt_1$relation == r))\n",
        "print(total_rel_1)\n",
        "print(sum(total_rel_1))"
      ],
      "metadata": {
        "colab": {
          "base_uri": "https://localhost:8080/"
        },
        "id": "bfz5_lKynZGN",
        "outputId": "c930db66-85a0-4c0e-fa89-80f22d692991"
      },
      "execution_count": null,
      "outputs": [
        {
          "output_type": "stream",
          "name": "stdout",
          "text": [
            "antonym for holonym for hyponym for meronym for      random \n",
            "        335        1873        5809        1041      411033 \n",
            "[1] 420091\n"
          ]
        }
      ]
    },
    {
      "cell_type": "markdown",
      "source": [
        "###**2. Remove concepts with ')' at the end**\n",
        "If a label for a language holds the above condition (it contains a ')' at the end), then the regarding relation between the involved concepts is pruned. In other words, the regarding line in the semrelations.csv file is removed, and so, the relation will be removed for all languages. This prune method will be used for the next filters."
      ],
      "metadata": {
        "id": "eO_qqjAafs97"
      }
    },
    {
      "cell_type": "code",
      "source": [
        "%%R\n",
        "par_end_re = \"[\\\\)]\\\\s*$\"\n",
        "\n",
        "par_end_indx = apply(data_filt_1[,5:ncol(data_filt_1)], 2, function(c) grepl(par_end_re, c))\n"
      ],
      "metadata": {
        "id": "cNYRqfUjf-1j"
      },
      "execution_count": null,
      "outputs": []
    },
    {
      "cell_type": "code",
      "source": [
        "%%R\n",
        "all_par_end_indx = rep(F, nrow(par_end_indx))\n",
        "for (c in 1:ncol(par_end_indx)) {\n",
        "    all_par_end_indx = all_par_end_indx |  par_end_indx[,c]\n",
        "}\n",
        "\n",
        "total_par_per_lang = apply(par_end_indx, 2, sum)\n",
        "\n",
        "print(sum(all_par_end_indx))\n",
        "print(total_par_per_lang)"
      ],
      "metadata": {
        "colab": {
          "base_uri": "https://localhost:8080/"
        },
        "id": "ELXXNIhhU9dV",
        "outputId": "867bb4db-db5b-4d07-d09a-d026922bf0e6"
      },
      "execution_count": null,
      "outputs": [
        {
          "output_type": "stream",
          "name": "stdout",
          "text": [
            "[1] 26625\n",
            "en_label_subject  en_label_object fr_label_subject  fr_label_object \n",
            "               0                0                0                0 \n",
            "de_label_subject  de_label_object nl_label_subject  nl_label_object \n",
            "             346              167                1                0 \n",
            "es_label_subject  es_label_object ru_label_subject  ru_label_object \n",
            "             230                0              563              249 \n",
            "it_label_subject  it_label_object ja_label_subject  ja_label_object \n",
            "             273               83             1005              656 \n",
            "ca_label_subject  ca_label_object zh_label_subject  zh_label_object \n",
            "               1                0              183              159 \n",
            "pt_label_subject  pt_label_object ar_label_subject  ar_label_object \n",
            "             167              351              491              800 \n",
            "sv_label_subject  sv_label_object pl_label_subject  pl_label_object \n",
            "             279              235              412              176 \n",
            "uk_label_subject  uk_label_object cs_label_subject  cs_label_object \n",
            "            1038              851                0                0 \n",
            "he_label_subject  he_label_object fa_label_subject  fa_label_object \n",
            "            1371             1935             3431             3666 \n",
            "fi_label_subject  fi_label_object ko_label_subject  ko_label_object \n",
            "               2                1              702              506 \n",
            "tr_label_subject  tr_label_object id_label_subject  id_label_object \n",
            "            1733             1601              433             1104 \n",
            "sr_label_subject  sr_label_object hu_label_subject  hu_label_object \n",
            "             740              653             1180              671 \n",
            "da_label_subject  da_label_object \n",
            "             245              151 \n"
          ]
        }
      ]
    },
    {
      "cell_type": "code",
      "source": [
        "%%R\n",
        "examples_par = unique(data_filt_1[par_end_indx[,9],4+9])\n",
        "print(length(examples_par))\n",
        "examples_par"
      ],
      "metadata": {
        "colab": {
          "base_uri": "https://localhost:8080/"
        },
        "id": "ZNj2LU6JVIT2",
        "outputId": "dcaac7d7-423c-4942-da9d-feb87e80c83a"
      },
      "execution_count": null,
      "outputs": [
        {
          "output_type": "stream",
          "name": "stdout",
          "text": [
            "[1] 2\n",
            "[1] \"óxido de titanio(IV)\"                 \n",
            "[2] \"ciudad imperial libre (Sacro Imperio)\"\n"
          ]
        }
      ]
    },
    {
      "cell_type": "code",
      "source": [
        "%%R\n",
        "data_filt_2 = data_filt_1[!all_par_end_indx,]\n",
        "print(nrow(data_filt_2))"
      ],
      "metadata": {
        "colab": {
          "base_uri": "https://localhost:8080/"
        },
        "id": "UX5CYlYTO8Bj",
        "outputId": "ee80972f-a60d-4bf0-8ef5-3fcf0bb98d77"
      },
      "execution_count": null,
      "outputs": [
        {
          "output_type": "stream",
          "name": "stdout",
          "text": [
            "[1] 393466\n"
          ]
        }
      ]
    },
    {
      "cell_type": "code",
      "source": [
        "%%R\n",
        "total_rel_2 = sapply(levels(data_filt_2$relation_type), function (r) sum(data_filt_2$relation == r))\n",
        "print(total_rel_2)\n",
        "print(sum(total_rel_2))"
      ],
      "metadata": {
        "colab": {
          "base_uri": "https://localhost:8080/"
        },
        "id": "ZkoD1ixdoMav",
        "outputId": "02462c10-9d0d-45f2-9b54-b8bfe49f035b"
      },
      "execution_count": null,
      "outputs": [
        {
          "output_type": "stream",
          "name": "stdout",
          "text": [
            "antonym for holonym for hyponym for meronym for      random \n",
            "        313        1761        5464         972      384956 \n",
            "[1] 393466\n"
          ]
        }
      ]
    },
    {
      "cell_type": "markdown",
      "source": [
        "###**3. Text in parentheses followed by a non blank**"
      ],
      "metadata": {
        "id": "LlK8NeL2SIgy"
      }
    },
    {
      "cell_type": "code",
      "source": [
        "%%R\n",
        "par2_re = \"\\\\([^\\\\)]+\\\\)\\\\S\"\n",
        "\n",
        "par2_indx = apply(data_filt_2[,5:ncol(data_filt_2)], 2, function(c) grepl(par2_re, c))"
      ],
      "metadata": {
        "id": "2KgvBR8qSzvS"
      },
      "execution_count": null,
      "outputs": []
    },
    {
      "cell_type": "code",
      "source": [
        "%%R\n",
        "total_par2_indx = apply(par2_indx, 2, sum)\n",
        "print(total_par2_indx)"
      ],
      "metadata": {
        "colab": {
          "base_uri": "https://localhost:8080/"
        },
        "id": "7GOhnD_eTUhJ",
        "outputId": "556b7662-a0e0-4e4f-90ee-65d6f2c6eef4"
      },
      "execution_count": null,
      "outputs": [
        {
          "output_type": "stream",
          "name": "stdout",
          "text": [
            "en_label_subject  en_label_object fr_label_subject  fr_label_object \n",
            "              98              239               96              239 \n",
            "de_label_subject  de_label_object nl_label_subject  nl_label_object \n",
            "             317              400                1              102 \n",
            "es_label_subject  es_label_object ru_label_subject  ru_label_object \n",
            "               0                0                0                0 \n",
            "it_label_subject  it_label_object ja_label_subject  ja_label_object \n",
            "               0                0                0                0 \n",
            "ca_label_subject  ca_label_object zh_label_subject  zh_label_object \n",
            "               0                0                0                0 \n",
            "pt_label_subject  pt_label_object ar_label_subject  ar_label_object \n",
            "               0                0                0                0 \n",
            "sv_label_subject  sv_label_object pl_label_subject  pl_label_object \n",
            "               0                0              317              400 \n",
            "uk_label_subject  uk_label_object cs_label_subject  cs_label_object \n",
            "               0                0                0                0 \n",
            "he_label_subject  he_label_object fa_label_subject  fa_label_object \n",
            "               0                0                0                0 \n",
            "fi_label_subject  fi_label_object ko_label_subject  ko_label_object \n",
            "               0                0                0                0 \n",
            "tr_label_subject  tr_label_object id_label_subject  id_label_object \n",
            "               0                0                0                0 \n",
            "sr_label_subject  sr_label_object hu_label_subject  hu_label_object \n",
            "               0                0                0                0 \n",
            "da_label_subject  da_label_object \n",
            "               0                0 \n"
          ]
        }
      ]
    },
    {
      "cell_type": "code",
      "source": [
        "%%R\n",
        "unique(data_filt_2[par2_indx[,2],6])"
      ],
      "metadata": {
        "colab": {
          "base_uri": "https://localhost:8080/"
        },
        "id": "mzhWMZcvTj9j",
        "outputId": "7bf01349-f4cc-44be-c586-7ca073514a0f"
      },
      "execution_count": null,
      "outputs": [
        {
          "output_type": "stream",
          "name": "stdout",
          "text": [
            "[1] \"(−)-nicotine\"   \"(RS)-methadone\"\n"
          ]
        }
      ]
    },
    {
      "cell_type": "code",
      "source": [
        "%%R\n",
        "all_par2_indx= rep(F, nrow(par2_indx))\n",
        "for (c in 1:ncol(par2_indx)) {\n",
        "    all_par2_indx = all_par2_indx | par2_indx[,c]\n",
        "}\n",
        "print(sum(all_par2_indx & data_filt_2$relation_type == \"random\"))\n",
        "print(sum(all_par2_indx))"
      ],
      "metadata": {
        "colab": {
          "base_uri": "https://localhost:8080/"
        },
        "id": "6RVYwLoNV8Oo",
        "outputId": "406112ee-0445-4d46-c1bc-ace7d9c1c862"
      },
      "execution_count": null,
      "outputs": [
        {
          "output_type": "stream",
          "name": "stdout",
          "text": [
            "[1] 805\n",
            "[1] 820\n"
          ]
        }
      ]
    },
    {
      "cell_type": "code",
      "source": [
        "%%R\n",
        "data_filt_3 = data_filt_2[!all_par2_indx,]\n",
        "print(nrow(data_filt_3))"
      ],
      "metadata": {
        "colab": {
          "base_uri": "https://localhost:8080/"
        },
        "id": "Lo8AnlHoWS5i",
        "outputId": "2f65b82f-fc7e-42d6-a1d3-4f0e44d91e50"
      },
      "execution_count": null,
      "outputs": [
        {
          "output_type": "stream",
          "name": "stdout",
          "text": [
            "[1] 392646\n"
          ]
        }
      ]
    },
    {
      "cell_type": "code",
      "source": [
        "%%R\n",
        "total_rel_3 = sapply(levels(data_filt_3$relation_type), function (r) sum(data_filt_3$relation == r))\n",
        "print(total_rel_3)\n",
        "print(sum(total_rel_3))"
      ],
      "metadata": {
        "colab": {
          "base_uri": "https://localhost:8080/"
        },
        "id": "G9cxKr6womKY",
        "outputId": "0c1c9974-b32e-4e30-8a0a-8b860994b857"
      },
      "execution_count": null,
      "outputs": [
        {
          "output_type": "stream",
          "name": "stdout",
          "text": [
            "antonym for holonym for hyponym for meronym for      random \n",
            "        313        1757        5453         972      384151 \n",
            "[1] 392646\n"
          ]
        }
      ]
    },
    {
      "cell_type": "markdown",
      "source": [
        "###**4. Lowercase+capital letter**"
      ],
      "metadata": {
        "id": "nUB7jBi2W8nj"
      }
    },
    {
      "cell_type": "code",
      "source": [
        "%%R\n",
        "lowup_re = \"\\\\p{Ll}\\\\p{Lu}\"\n",
        "lowup_indx = apply(data_filt_3[,5:ncol(data_filt_3)], 2, function(c) grepl(lowup_re, c, perl=TRUE))"
      ],
      "metadata": {
        "id": "PFUeuaNGXcCA"
      },
      "execution_count": null,
      "outputs": []
    },
    {
      "cell_type": "code",
      "source": [
        "%%R\n",
        "low_up_concepts = unique(c(data_filt_3[lowup_indx[,1], 5], data_filt_3[lowup_indx[,2], 6]))\n",
        "print(length(low_up_concepts))\n",
        "low_up_concepts"
      ],
      "metadata": {
        "colab": {
          "base_uri": "https://localhost:8080/"
        },
        "id": "goTLmkLubw7u",
        "outputId": "5858089a-9c87-42c4-a0f3-c9c863ea606c"
      },
      "execution_count": null,
      "outputs": [
        {
          "output_type": "stream",
          "name": "stdout",
          "text": [
            "[1] 26\n",
            " [1] \"PlayStation Portable\"                \n",
            " [2] \"wide area networkICR Co data base\"   \n",
            " [3] \"iOS\"                                 \n",
            " [4] \"Nintendo GameCube\"                   \n",
            " [5] \"OpenDocument\"                        \n",
            " [6] \"WikiProject\"                         \n",
            " [7] \"openSUSE\"                            \n",
            " [8] \"PlayStation\"                         \n",
            " [9] \"BitTorrent\"                          \n",
            "[10] \"pH\"                                  \n",
            "[11] \"iPod\"                                \n",
            "[12] \"LaTeX\"                               \n",
            "[13] \"iPod Touch\"                          \n",
            "[14] \"HyperText Markup Language\"           \n",
            "[15] \"ORCID iD\"                            \n",
            "[16] \"MacBook Pro\"                         \n",
            "[17] \"BlackBerry\"                          \n",
            "[18] \"macOS\"                               \n",
            "[19] \"iPad\"                                \n",
            "[20] \"YouTuber\"                            \n",
            "[21] \"iPhone\"                              \n",
            "[22] \"Extensible HyperText Markup Language\"\n",
            "[23] \"PlayStation Vita\"                    \n",
            "[24] \"Russian Aircraft Corporation MiG\"    \n",
            "[25] \"FIBA EuroBasket\"                     \n",
            "[26] \"Serbian SuperLiga\"                   \n"
          ]
        }
      ]
    },
    {
      "cell_type": "code",
      "source": [
        "%%R\n",
        "total_lowup_indx = apply(lowup_indx, 2, sum)\n",
        "print(total_lowup_indx)"
      ],
      "metadata": {
        "colab": {
          "base_uri": "https://localhost:8080/"
        },
        "id": "Qhs7l-EJbMKW",
        "outputId": "39b48ef2-924d-4000-c53d-afc2c71ee820"
      },
      "execution_count": null,
      "outputs": [
        {
          "output_type": "stream",
          "name": "stdout",
          "text": [
            "en_label_subject  en_label_object fr_label_subject  fr_label_object \n",
            "            1595             1760             1116             1215 \n",
            "de_label_subject  de_label_object nl_label_subject  nl_label_object \n",
            "            1709             1161             1424             1378 \n",
            "es_label_subject  es_label_object ru_label_subject  ru_label_object \n",
            "            1410             1538             1433             1300 \n",
            "it_label_subject  it_label_object ja_label_subject  ja_label_object \n",
            "            1203             1138             1366             1224 \n",
            "ca_label_subject  ca_label_object zh_label_subject  zh_label_object \n",
            "            1133              974             1147              974 \n",
            "pt_label_subject  pt_label_object ar_label_subject  ar_label_object \n",
            "            1410             1292                0                0 \n",
            "sv_label_subject  sv_label_object pl_label_subject  pl_label_object \n",
            "             768              396             1452             1137 \n",
            "uk_label_subject  uk_label_object cs_label_subject  cs_label_object \n",
            "            1425             1212             1656             1301 \n",
            "he_label_subject  he_label_object fa_label_subject  fa_label_object \n",
            "            1062              486                0                0 \n",
            "fi_label_subject  fi_label_object ko_label_subject  ko_label_object \n",
            "            1273             1315              350              167 \n",
            "tr_label_subject  tr_label_object id_label_subject  id_label_object \n",
            "            1098             1127             1489             1286 \n",
            "sr_label_subject  sr_label_object hu_label_subject  hu_label_object \n",
            "             735              554             1203             1144 \n",
            "da_label_subject  da_label_object \n",
            "            1757             1296 \n"
          ]
        }
      ]
    },
    {
      "cell_type": "code",
      "source": [
        "%%R\n",
        "all_lowup_indx= rep(F, nrow(lowup_indx))\n",
        "for (c in 1:ncol(par2_indx)) {\n",
        "    all_lowup_indx = all_lowup_indx |  lowup_indx[,c]\n",
        "}\n",
        "print(sum(all_lowup_indx & data_filt_3$relation_type == \"random\"))\n",
        "print(sum(all_lowup_indx))"
      ],
      "metadata": {
        "colab": {
          "base_uri": "https://localhost:8080/"
        },
        "id": "lE8Btxvbd5TF",
        "outputId": "d732e8dc-9e93-4171-ee30-7a190eaf38ae"
      },
      "execution_count": null,
      "outputs": [
        {
          "output_type": "stream",
          "name": "stdout",
          "text": [
            "[1] 5138\n",
            "[1] 5171\n"
          ]
        }
      ]
    },
    {
      "cell_type": "code",
      "source": [
        "%%R\n",
        "data_filt_4 = data_filt_3[!all_lowup_indx, ]"
      ],
      "metadata": {
        "id": "5-AL63UUeTUd"
      },
      "execution_count": null,
      "outputs": []
    },
    {
      "cell_type": "code",
      "source": [
        "%%R\n",
        "total_rel_4 = sapply(levels(data_filt_4$relation_type), function (r) sum(data_filt_4$relation == r))\n",
        "print(total_rel_4)\n",
        "print(sum(total_rel_4))"
      ],
      "metadata": {
        "colab": {
          "base_uri": "https://localhost:8080/"
        },
        "id": "BMLfs3TgpDc8",
        "outputId": "a89ec77e-9a68-4956-bb1b-960910945f10"
      },
      "execution_count": null,
      "outputs": [
        {
          "output_type": "stream",
          "name": "stdout",
          "text": [
            "antonym for holonym for hyponym for meronym for      random \n",
            "        313        1753        5427         969      379013 \n",
            "[1] 387475\n"
          ]
        }
      ]
    },
    {
      "cell_type": "markdown",
      "source": [
        "###**5. *Funny* characters**"
      ],
      "metadata": {
        "id": "_C0ZKb6RxjOY"
      }
    },
    {
      "cell_type": "code",
      "source": [
        "%%R\n",
        "rare_content_re = \"\\\\]|\\\\[|[/\\\\,.:<>!¡¿?&%#@|?¿;=$\\\\(\\\\){}]\"\n",
        "\n",
        "rare_content_indx = apply(data_filt_4[,5:ncol(data_filt_4)], 2, function(c) grepl(rare_content_re, c))\n",
        "\n",
        "total_content_indx= apply(rare_content_indx, 2, sum)\n",
        "print(total_content_indx)"
      ],
      "metadata": {
        "id": "ziYRPUImIX5H",
        "colab": {
          "base_uri": "https://localhost:8080/"
        },
        "outputId": "0a22eb14-b088-41ef-e5f2-63ccd0b7bd27"
      },
      "execution_count": null,
      "outputs": [
        {
          "output_type": "stream",
          "name": "stdout",
          "text": [
            "en_label_subject  en_label_object fr_label_subject  fr_label_object \n",
            "             177              436              306               89 \n",
            "de_label_subject  de_label_object nl_label_subject  nl_label_object \n",
            "             335              174              489              424 \n",
            "es_label_subject  es_label_object ru_label_subject  ru_label_object \n",
            "             163              172              159              720 \n",
            "it_label_subject  it_label_object ja_label_subject  ja_label_object \n",
            "             156              161              475                1 \n",
            "ca_label_subject  ca_label_object zh_label_subject  zh_label_object \n",
            "             234              417               91              331 \n",
            "pt_label_subject  pt_label_object ar_label_subject  ar_label_object \n",
            "             170              498              233                2 \n",
            "sv_label_subject  sv_label_object pl_label_subject  pl_label_object \n",
            "             956              817              675              919 \n",
            "uk_label_subject  uk_label_object cs_label_subject  cs_label_object \n",
            "             249              903              239              576 \n",
            "he_label_subject  he_label_object fa_label_subject  fa_label_object \n",
            "             252              256              139              330 \n",
            "fi_label_subject  fi_label_object ko_label_subject  ko_label_object \n",
            "             282              714               96               81 \n",
            "tr_label_subject  tr_label_object id_label_subject  id_label_object \n",
            "             560              793              399              245 \n",
            "sr_label_subject  sr_label_object hu_label_subject  hu_label_object \n",
            "              18              408              166              431 \n",
            "da_label_subject  da_label_object \n",
            "             620              620 \n"
          ]
        }
      ]
    },
    {
      "cell_type": "code",
      "source": [
        "%%R\n",
        "funny_concepts = unique(c(data_filt_4[rare_content_indx[,9], 4+9], data_filt_4[rare_content_indx[,10], 4+10]))\n",
        "print(length(funny_concepts))\n",
        "head(funny_concepts, 20)"
      ],
      "metadata": {
        "colab": {
          "base_uri": "https://localhost:8080/"
        },
        "id": "3_khAskgbPLB",
        "outputId": "a9755d0d-cc70-41aa-c7e2-f8b225527b90"
      },
      "execution_count": null,
      "outputs": [
        {
          "output_type": "stream",
          "name": "stdout",
          "text": [
            "[1] 5\n",
            "[1] \"Joomla!\"                       \"edición, traducción o versión\"\n",
            "[3] \"entrada/salida\"                \"obra/composición musical\"     \n",
            "[5] \"Xbox Series X|S\"              \n"
          ]
        }
      ]
    },
    {
      "cell_type": "code",
      "source": [
        "%%R\n",
        "all_rare_content_indx= rep(F, nrow(rare_content_indx))\n",
        "for (c in 1:ncol(rare_content_indx)) {\n",
        "    all_rare_content_indx = all_rare_content_indx |  rare_content_indx[,c]\n",
        "}\n",
        "print(sum(all_rare_content_indx & data_filt_4$relation_type == \"random\"))\n",
        "print(sum(all_rare_content_indx))"
      ],
      "metadata": {
        "colab": {
          "base_uri": "https://localhost:8080/"
        },
        "id": "c9OfwFthfEZR",
        "outputId": "1634bf2c-f0c4-4256-d41b-6b3e4aee303e"
      },
      "execution_count": null,
      "outputs": [
        {
          "output_type": "stream",
          "name": "stdout",
          "text": [
            "[1] 9046\n",
            "[1] 9205\n"
          ]
        }
      ]
    },
    {
      "cell_type": "code",
      "source": [
        "%%R\n",
        "data_filt_5 = data_filt_4[!all_rare_content_indx,]\n",
        "print(nrow(data_filt_5))"
      ],
      "metadata": {
        "colab": {
          "base_uri": "https://localhost:8080/"
        },
        "id": "kyBfRBdRe2A0",
        "outputId": "918df9ca-eae7-489a-d724-85655935ff89"
      },
      "execution_count": null,
      "outputs": [
        {
          "output_type": "stream",
          "name": "stdout",
          "text": [
            "[1] 378270\n"
          ]
        }
      ]
    },
    {
      "cell_type": "code",
      "source": [
        "%%R\n",
        "total_rel_5 = sapply(levels(data_filt_5$relation_type), function (r) sum(data_filt_5$relation == r))\n",
        "print(total_rel_5)\n",
        "print(sum(total_rel_5))"
      ],
      "metadata": {
        "colab": {
          "base_uri": "https://localhost:8080/"
        },
        "id": "4O5UjAy9pfZO",
        "outputId": "0f4b7a04-428f-4841-c9bd-9c8b9291d14d"
      },
      "execution_count": null,
      "outputs": [
        {
          "output_type": "stream",
          "name": "stdout",
          "text": [
            "antonym for holonym for hyponym for meronym for      random \n",
            "        296        1727        5328         952      369967 \n",
            "[1] 378270\n"
          ]
        }
      ]
    },
    {
      "cell_type": "markdown",
      "source": [
        "###**Create hyperonyms**"
      ],
      "metadata": {
        "id": "boCNVv37pISd"
      }
    },
    {
      "cell_type": "code",
      "source": [
        "%%R\n",
        "data_filt_hyper = data_filt_5\n",
        "\n",
        "hyponyms_filter = data_filt_hyper$relation_type == \"hyponym for\"\n",
        "hyponyms_indx = which(hyponyms_filter == T)\n",
        "length(hyponyms_indx)"
      ],
      "metadata": {
        "colab": {
          "base_uri": "https://localhost:8080/"
        },
        "id": "LUbdWWzIpQKe",
        "outputId": "587f8666-54e4-4283-b7e3-1db132be1538"
      },
      "execution_count": null,
      "outputs": [
        {
          "output_type": "stream",
          "name": "stdout",
          "text": [
            "[1] 5328\n"
          ]
        }
      ]
    },
    {
      "cell_type": "code",
      "source": [
        "%%R\n",
        "data_filt_hyper$relation_type = as.character(data_filt_hyper$relation_type)\n",
        "set.seed(32)\n",
        "hyper = sample(1:length(hyponyms_indx), 0.5*length(hyponyms_indx))\n",
        "hyper_indx = hyponyms_indx[hyper]\n",
        "head(hyper_indx)\n",
        "for (i in hyper_indx) {\n",
        "    temp = data_filt_hyper[i,1]\n",
        "    data_filt_hyper[i,1] = data_filt_hyper[i,2]\n",
        "    data_filt_hyper[i,2] = temp\n",
        "    data_filt_hyper[i,3] = \"hyperonym for\"\n",
        "    data_filt_hyper[i,4] = paste(data_filt_hyper[i,4], \"inv\", sep = \"_\")\n",
        "    for (j in seq(5,ncol(data_filt_hyper), 2)) {\n",
        "        temp = data_filt_hyper[i,j]\n",
        "        data_filt_hyper[i,j] = data_filt_hyper[i,j+1]\n",
        "        data_filt_hyper[i,j+1] = temp\n",
        "    }\n",
        "}\n",
        "\n",
        "data_filt_hyper$relation_type = as.factor(data_filt_hyper$relation_type)"
      ],
      "metadata": {
        "id": "ztokmg7lp2jP"
      },
      "execution_count": null,
      "outputs": []
    },
    {
      "cell_type": "code",
      "source": [
        "%%R\n",
        "print(sum(data_filt_hyper$relation_type == \"hyperonym for\"))\n",
        "print(levels(data_filt_hyper$relation_type))"
      ],
      "metadata": {
        "colab": {
          "base_uri": "https://localhost:8080/"
        },
        "id": "7PkxFtyMtnfO",
        "outputId": "07bf1f9e-59fd-40eb-a8ae-ed2c0415fa75"
      },
      "execution_count": null,
      "outputs": [
        {
          "output_type": "stream",
          "name": "stdout",
          "text": [
            "[1] 2664\n",
            "[1] \"antonym for\"   \"holonym for\"   \"hyperonym for\" \"hyponym for\"  \n",
            "[5] \"meronym for\"   \"random\"       \n"
          ]
        }
      ]
    },
    {
      "cell_type": "markdown",
      "source": [
        "###**Duplicates**"
      ],
      "metadata": {
        "id": "7hueiiySqSBg"
      }
    },
    {
      "cell_type": "code",
      "source": [
        "%%R\n",
        "d = data_filt_hyper[duplicated(data_filt_hyper[,1:3]),]\n",
        "total_rel_dup = sapply(levels(d$relation_type), function (r) sum(d$relation == r))\n",
        "print(total_rel_dup)\n",
        "print(sum(total_rel_dup))"
      ],
      "metadata": {
        "colab": {
          "base_uri": "https://localhost:8080/"
        },
        "id": "aeFw6-EAqVZj",
        "outputId": "f73b38a8-7184-4d16-83bd-e67653675923"
      },
      "execution_count": null,
      "outputs": [
        {
          "output_type": "stream",
          "name": "stdout",
          "text": [
            "  antonym for   holonym for hyperonym for   hyponym for   meronym for \n",
            "            0            44             0             0             7 \n",
            "       random \n",
            "            0 \n",
            "[1] 51\n"
          ]
        }
      ]
    },
    {
      "cell_type": "code",
      "source": [
        "%%R\n",
        "data_filt_hyper = data_filt_hyper[!duplicated(data_filt_hyper[,1:3]),]"
      ],
      "metadata": {
        "id": "SRycd1imtDOe"
      },
      "execution_count": null,
      "outputs": []
    },
    {
      "cell_type": "markdown",
      "source": [
        "###**Remove random relations up to 70%**"
      ],
      "metadata": {
        "id": "KIdrWsYeqxWE"
      }
    },
    {
      "cell_type": "code",
      "source": [
        "%%R\n",
        "total_rel_hyper = sapply(levels(data_filt_hyper$relation_type), function (r) sum(data_filt_hyper$relation_type == r))\n",
        "stats_dataset_hyper = as.data.frame(total_rel_hyper)\n",
        "stats_dataset_hyper$percentage = stats_dataset_hyper$total_rel/sum(total_rel_hyper)"
      ],
      "metadata": {
        "id": "Pyw3ymyhfHSs"
      },
      "execution_count": null,
      "outputs": []
    },
    {
      "cell_type": "code",
      "source": [
        "# move R variable to python\n",
        "%R -o stats_dataset_hyper\n",
        "stats_dataset_hyper"
      ],
      "metadata": {
        "colab": {
          "base_uri": "https://localhost:8080/",
          "height": 238
        },
        "id": "mrDRcbt3fS24",
        "outputId": "d0a36acf-a619-467d-e7a5-ce3b9fd2a50a"
      },
      "execution_count": null,
      "outputs": [
        {
          "output_type": "execute_result",
          "data": {
            "text/plain": [
              "               total_rel_hyper  percentage\n",
              "antonym for                296    0.000783\n",
              "holonym for               1683    0.004450\n",
              "hyperonym for             2664    0.007044\n",
              "hyponym for               2664    0.007044\n",
              "meronym for                945    0.002499\n",
              "random                  369967    0.978182"
            ],
            "text/html": [
              "\n",
              "  <div id=\"df-0dcb2272-bef7-4b32-8c64-2f8835acb8fe\">\n",
              "    <div class=\"colab-df-container\">\n",
              "      <div>\n",
              "<style scoped>\n",
              "    .dataframe tbody tr th:only-of-type {\n",
              "        vertical-align: middle;\n",
              "    }\n",
              "\n",
              "    .dataframe tbody tr th {\n",
              "        vertical-align: top;\n",
              "    }\n",
              "\n",
              "    .dataframe thead th {\n",
              "        text-align: right;\n",
              "    }\n",
              "</style>\n",
              "<table border=\"1\" class=\"dataframe\">\n",
              "  <thead>\n",
              "    <tr style=\"text-align: right;\">\n",
              "      <th></th>\n",
              "      <th>total_rel_hyper</th>\n",
              "      <th>percentage</th>\n",
              "    </tr>\n",
              "  </thead>\n",
              "  <tbody>\n",
              "    <tr>\n",
              "      <th>antonym for</th>\n",
              "      <td>296</td>\n",
              "      <td>0.000783</td>\n",
              "    </tr>\n",
              "    <tr>\n",
              "      <th>holonym for</th>\n",
              "      <td>1683</td>\n",
              "      <td>0.004450</td>\n",
              "    </tr>\n",
              "    <tr>\n",
              "      <th>hyperonym for</th>\n",
              "      <td>2664</td>\n",
              "      <td>0.007044</td>\n",
              "    </tr>\n",
              "    <tr>\n",
              "      <th>hyponym for</th>\n",
              "      <td>2664</td>\n",
              "      <td>0.007044</td>\n",
              "    </tr>\n",
              "    <tr>\n",
              "      <th>meronym for</th>\n",
              "      <td>945</td>\n",
              "      <td>0.002499</td>\n",
              "    </tr>\n",
              "    <tr>\n",
              "      <th>random</th>\n",
              "      <td>369967</td>\n",
              "      <td>0.978182</td>\n",
              "    </tr>\n",
              "  </tbody>\n",
              "</table>\n",
              "</div>\n",
              "      <button class=\"colab-df-convert\" onclick=\"convertToInteractive('df-0dcb2272-bef7-4b32-8c64-2f8835acb8fe')\"\n",
              "              title=\"Convert this dataframe to an interactive table.\"\n",
              "              style=\"display:none;\">\n",
              "        \n",
              "  <svg xmlns=\"http://www.w3.org/2000/svg\" height=\"24px\"viewBox=\"0 0 24 24\"\n",
              "       width=\"24px\">\n",
              "    <path d=\"M0 0h24v24H0V0z\" fill=\"none\"/>\n",
              "    <path d=\"M18.56 5.44l.94 2.06.94-2.06 2.06-.94-2.06-.94-.94-2.06-.94 2.06-2.06.94zm-11 1L8.5 8.5l.94-2.06 2.06-.94-2.06-.94L8.5 2.5l-.94 2.06-2.06.94zm10 10l.94 2.06.94-2.06 2.06-.94-2.06-.94-.94-2.06-.94 2.06-2.06.94z\"/><path d=\"M17.41 7.96l-1.37-1.37c-.4-.4-.92-.59-1.43-.59-.52 0-1.04.2-1.43.59L10.3 9.45l-7.72 7.72c-.78.78-.78 2.05 0 2.83L4 21.41c.39.39.9.59 1.41.59.51 0 1.02-.2 1.41-.59l7.78-7.78 2.81-2.81c.8-.78.8-2.07 0-2.86zM5.41 20L4 18.59l7.72-7.72 1.47 1.35L5.41 20z\"/>\n",
              "  </svg>\n",
              "      </button>\n",
              "      \n",
              "  <style>\n",
              "    .colab-df-container {\n",
              "      display:flex;\n",
              "      flex-wrap:wrap;\n",
              "      gap: 12px;\n",
              "    }\n",
              "\n",
              "    .colab-df-convert {\n",
              "      background-color: #E8F0FE;\n",
              "      border: none;\n",
              "      border-radius: 50%;\n",
              "      cursor: pointer;\n",
              "      display: none;\n",
              "      fill: #1967D2;\n",
              "      height: 32px;\n",
              "      padding: 0 0 0 0;\n",
              "      width: 32px;\n",
              "    }\n",
              "\n",
              "    .colab-df-convert:hover {\n",
              "      background-color: #E2EBFA;\n",
              "      box-shadow: 0px 1px 2px rgba(60, 64, 67, 0.3), 0px 1px 3px 1px rgba(60, 64, 67, 0.15);\n",
              "      fill: #174EA6;\n",
              "    }\n",
              "\n",
              "    [theme=dark] .colab-df-convert {\n",
              "      background-color: #3B4455;\n",
              "      fill: #D2E3FC;\n",
              "    }\n",
              "\n",
              "    [theme=dark] .colab-df-convert:hover {\n",
              "      background-color: #434B5C;\n",
              "      box-shadow: 0px 1px 3px 1px rgba(0, 0, 0, 0.15);\n",
              "      filter: drop-shadow(0px 1px 2px rgba(0, 0, 0, 0.3));\n",
              "      fill: #FFFFFF;\n",
              "    }\n",
              "  </style>\n",
              "\n",
              "      <script>\n",
              "        const buttonEl =\n",
              "          document.querySelector('#df-0dcb2272-bef7-4b32-8c64-2f8835acb8fe button.colab-df-convert');\n",
              "        buttonEl.style.display =\n",
              "          google.colab.kernel.accessAllowed ? 'block' : 'none';\n",
              "\n",
              "        async function convertToInteractive(key) {\n",
              "          const element = document.querySelector('#df-0dcb2272-bef7-4b32-8c64-2f8835acb8fe');\n",
              "          const dataTable =\n",
              "            await google.colab.kernel.invokeFunction('convertToInteractive',\n",
              "                                                     [key], {});\n",
              "          if (!dataTable) return;\n",
              "\n",
              "          const docLinkHtml = 'Like what you see? Visit the ' +\n",
              "            '<a target=\"_blank\" href=https://colab.research.google.com/notebooks/data_table.ipynb>data table notebook</a>'\n",
              "            + ' to learn more about interactive tables.';\n",
              "          element.innerHTML = '';\n",
              "          dataTable['output_type'] = 'display_data';\n",
              "          await google.colab.output.renderOutput(dataTable, element);\n",
              "          const docLink = document.createElement('div');\n",
              "          docLink.innerHTML = docLinkHtml;\n",
              "          element.appendChild(docLink);\n",
              "        }\n",
              "      </script>\n",
              "    </div>\n",
              "  </div>\n",
              "  "
            ]
          },
          "metadata": {},
          "execution_count": 46
        }
      ]
    },
    {
      "cell_type": "code",
      "source": [
        "%%R\n",
        "# max percentage of random relations\n",
        "MAX_PERC_RANDOM = 0.7\n",
        "\n",
        "number_random_remove = (stats_dataset_hyper['random',1] - MAX_PERC_RANDOM*sum(stats_dataset_hyper$total_rel_hyper))/(1-MAX_PERC_RANDOM)\n",
        "\n",
        "\n",
        "indx_random = which(data_filt_hyper$relation_type == \"random\")\n",
        "indx_remove_random = sample(indx_random, number_random_remove)\n",
        "\n",
        "data_filt_final = data_filt_hyper[-indx_remove_random,]\n",
        "\n",
        "total_rel_final = sapply(levels(data_filt_final$relation_type), function (r) sum(data_filt_final$relation == r))\n",
        "stats_dataset_final = as.data.frame(total_rel_final)\n",
        "stats_dataset_final$percentage = stats_dataset_final$total_rel_final/sum(total_rel_final)\n",
        "print(total_rel_final)\n",
        "print(sum(total_rel_final))"
      ],
      "metadata": {
        "colab": {
          "base_uri": "https://localhost:8080/"
        },
        "id": "c5dOYG08GtIZ",
        "outputId": "8fd12f6a-cb40-4c2e-eb2d-089e7f6b268a"
      },
      "execution_count": null,
      "outputs": [
        {
          "output_type": "stream",
          "name": "stdout",
          "text": [
            "  antonym for   holonym for hyperonym for   hyponym for   meronym for \n",
            "          296          1683          2664          2664           945 \n",
            "       random \n",
            "        19255 \n",
            "[1] 27507\n"
          ]
        }
      ]
    },
    {
      "cell_type": "code",
      "source": [
        "%R -o stats_dataset_final\n",
        "\n",
        "stats_dataset_final"
      ],
      "metadata": {
        "colab": {
          "base_uri": "https://localhost:8080/",
          "height": 238
        },
        "id": "jBMypJ06I8n2",
        "outputId": "c5052152-6816-45e1-e413-aeb02cc9a449"
      },
      "execution_count": null,
      "outputs": [
        {
          "output_type": "execute_result",
          "data": {
            "text/plain": [
              "               total_rel_final  percentage\n",
              "antonym for                296    0.010761\n",
              "holonym for               1683    0.061184\n",
              "hyperonym for             2664    0.096848\n",
              "hyponym for               2664    0.096848\n",
              "meronym for                945    0.034355\n",
              "random                   19255    0.700004"
            ],
            "text/html": [
              "\n",
              "  <div id=\"df-4cc73589-9b62-42f1-bfbb-65e10a03cc06\">\n",
              "    <div class=\"colab-df-container\">\n",
              "      <div>\n",
              "<style scoped>\n",
              "    .dataframe tbody tr th:only-of-type {\n",
              "        vertical-align: middle;\n",
              "    }\n",
              "\n",
              "    .dataframe tbody tr th {\n",
              "        vertical-align: top;\n",
              "    }\n",
              "\n",
              "    .dataframe thead th {\n",
              "        text-align: right;\n",
              "    }\n",
              "</style>\n",
              "<table border=\"1\" class=\"dataframe\">\n",
              "  <thead>\n",
              "    <tr style=\"text-align: right;\">\n",
              "      <th></th>\n",
              "      <th>total_rel_final</th>\n",
              "      <th>percentage</th>\n",
              "    </tr>\n",
              "  </thead>\n",
              "  <tbody>\n",
              "    <tr>\n",
              "      <th>antonym for</th>\n",
              "      <td>296</td>\n",
              "      <td>0.010761</td>\n",
              "    </tr>\n",
              "    <tr>\n",
              "      <th>holonym for</th>\n",
              "      <td>1683</td>\n",
              "      <td>0.061184</td>\n",
              "    </tr>\n",
              "    <tr>\n",
              "      <th>hyperonym for</th>\n",
              "      <td>2664</td>\n",
              "      <td>0.096848</td>\n",
              "    </tr>\n",
              "    <tr>\n",
              "      <th>hyponym for</th>\n",
              "      <td>2664</td>\n",
              "      <td>0.096848</td>\n",
              "    </tr>\n",
              "    <tr>\n",
              "      <th>meronym for</th>\n",
              "      <td>945</td>\n",
              "      <td>0.034355</td>\n",
              "    </tr>\n",
              "    <tr>\n",
              "      <th>random</th>\n",
              "      <td>19255</td>\n",
              "      <td>0.700004</td>\n",
              "    </tr>\n",
              "  </tbody>\n",
              "</table>\n",
              "</div>\n",
              "      <button class=\"colab-df-convert\" onclick=\"convertToInteractive('df-4cc73589-9b62-42f1-bfbb-65e10a03cc06')\"\n",
              "              title=\"Convert this dataframe to an interactive table.\"\n",
              "              style=\"display:none;\">\n",
              "        \n",
              "  <svg xmlns=\"http://www.w3.org/2000/svg\" height=\"24px\"viewBox=\"0 0 24 24\"\n",
              "       width=\"24px\">\n",
              "    <path d=\"M0 0h24v24H0V0z\" fill=\"none\"/>\n",
              "    <path d=\"M18.56 5.44l.94 2.06.94-2.06 2.06-.94-2.06-.94-.94-2.06-.94 2.06-2.06.94zm-11 1L8.5 8.5l.94-2.06 2.06-.94-2.06-.94L8.5 2.5l-.94 2.06-2.06.94zm10 10l.94 2.06.94-2.06 2.06-.94-2.06-.94-.94-2.06-.94 2.06-2.06.94z\"/><path d=\"M17.41 7.96l-1.37-1.37c-.4-.4-.92-.59-1.43-.59-.52 0-1.04.2-1.43.59L10.3 9.45l-7.72 7.72c-.78.78-.78 2.05 0 2.83L4 21.41c.39.39.9.59 1.41.59.51 0 1.02-.2 1.41-.59l7.78-7.78 2.81-2.81c.8-.78.8-2.07 0-2.86zM5.41 20L4 18.59l7.72-7.72 1.47 1.35L5.41 20z\"/>\n",
              "  </svg>\n",
              "      </button>\n",
              "      \n",
              "  <style>\n",
              "    .colab-df-container {\n",
              "      display:flex;\n",
              "      flex-wrap:wrap;\n",
              "      gap: 12px;\n",
              "    }\n",
              "\n",
              "    .colab-df-convert {\n",
              "      background-color: #E8F0FE;\n",
              "      border: none;\n",
              "      border-radius: 50%;\n",
              "      cursor: pointer;\n",
              "      display: none;\n",
              "      fill: #1967D2;\n",
              "      height: 32px;\n",
              "      padding: 0 0 0 0;\n",
              "      width: 32px;\n",
              "    }\n",
              "\n",
              "    .colab-df-convert:hover {\n",
              "      background-color: #E2EBFA;\n",
              "      box-shadow: 0px 1px 2px rgba(60, 64, 67, 0.3), 0px 1px 3px 1px rgba(60, 64, 67, 0.15);\n",
              "      fill: #174EA6;\n",
              "    }\n",
              "\n",
              "    [theme=dark] .colab-df-convert {\n",
              "      background-color: #3B4455;\n",
              "      fill: #D2E3FC;\n",
              "    }\n",
              "\n",
              "    [theme=dark] .colab-df-convert:hover {\n",
              "      background-color: #434B5C;\n",
              "      box-shadow: 0px 1px 3px 1px rgba(0, 0, 0, 0.15);\n",
              "      filter: drop-shadow(0px 1px 2px rgba(0, 0, 0, 0.3));\n",
              "      fill: #FFFFFF;\n",
              "    }\n",
              "  </style>\n",
              "\n",
              "      <script>\n",
              "        const buttonEl =\n",
              "          document.querySelector('#df-4cc73589-9b62-42f1-bfbb-65e10a03cc06 button.colab-df-convert');\n",
              "        buttonEl.style.display =\n",
              "          google.colab.kernel.accessAllowed ? 'block' : 'none';\n",
              "\n",
              "        async function convertToInteractive(key) {\n",
              "          const element = document.querySelector('#df-4cc73589-9b62-42f1-bfbb-65e10a03cc06');\n",
              "          const dataTable =\n",
              "            await google.colab.kernel.invokeFunction('convertToInteractive',\n",
              "                                                     [key], {});\n",
              "          if (!dataTable) return;\n",
              "\n",
              "          const docLinkHtml = 'Like what you see? Visit the ' +\n",
              "            '<a target=\"_blank\" href=https://colab.research.google.com/notebooks/data_table.ipynb>data table notebook</a>'\n",
              "            + ' to learn more about interactive tables.';\n",
              "          element.innerHTML = '';\n",
              "          dataTable['output_type'] = 'display_data';\n",
              "          await google.colab.output.renderOutput(dataTable, element);\n",
              "          const docLink = document.createElement('div');\n",
              "          docLink.innerHTML = docLinkHtml;\n",
              "          element.appendChild(docLink);\n",
              "        }\n",
              "      </script>\n",
              "    </div>\n",
              "  </div>\n",
              "  "
            ]
          },
          "metadata": {},
          "execution_count": 48
        }
      ]
    },
    {
      "cell_type": "code",
      "source": [
        "%%R\n",
        "data_filt_final_not_random = data_filt_final[data_filt_final$relation_type != \"random\",]\n",
        "\n",
        "print(length(unique(c(data_filt_final_not_random$subject, data_filt_final_not_random$object))))\n",
        "print(length(unique(c(data_filt_final$subject, data_filt_final$object))))\n",
        "\n",
        "t_not_random = sort(table(c(data_filt_final_not_random$subject, data_filt_final_not_random$object)),decreasing = TRUE)\n",
        "t_total = sort(table(c(data_filt_final$subject, data_filt_final$object)),decreasing = TRUE)\n",
        "\n",
        "print(head(t_not_random,20))\n",
        "print(head(t_total, 20))\n",
        "print(length(names(t_not_random)))\n",
        "print(summary(as.integer(t_not_random)))\n",
        "print(summary(as.integer(t_total)))"
      ],
      "metadata": {
        "colab": {
          "base_uri": "https://localhost:8080/"
        },
        "id": "R818AzRIwdoO",
        "outputId": "ee2d05f9-0f61-4d9a-8831-859c873932c7"
      },
      "execution_count": null,
      "outputs": [
        {
          "output_type": "stream",
          "name": "stdout",
          "text": [
            "[1] 5778\n",
            "[1] 7233\n",
            "\n",
            "     Q623      Q629   Q107715      Q556      Q420      Q627   Q214609   Q212434 \n",
            "      119        83        79        70        52        46        41        39 \n",
            "     Q283  Q1914636     Q8162     Q2095    Q43229     Q7239    Q11426  Q1190554 \n",
            "       38        34        33        32        30        29        28        28 \n",
            " Q1441305 Q16334295     Q5891    Q41176 \n",
            "       27        27        27        26 \n",
            "\n",
            "    Q623     Q629     Q556  Q107715     Q420     Q283  Q212434     Q627 \n",
            "     128       92       84       79       67       49       48       46 \n",
            " Q214609   Q41176    Q8162  Q746549   Q11002 Q1914636  Q618779 Q1190554 \n",
            "      44       38       38       37       36       36       35       34 \n",
            "  Q19557 Q3294789  Q386724 Q1656682 \n",
            "      34       34       34       33 \n",
            "[1] 5778\n",
            "   Min. 1st Qu.  Median    Mean 3rd Qu.    Max. \n",
            "  1.000   1.000   2.000   2.856   3.000 119.000 \n",
            "   Min. 1st Qu.  Median    Mean 3rd Qu.    Max. \n",
            "  1.000   3.000   6.000   7.606  11.000 128.000 \n"
          ]
        }
      ]
    },
    {
      "cell_type": "code",
      "source": [
        "!mkdir -p /content/drive/MyDrive/complete_dataset/"
      ],
      "metadata": {
        "id": "3ZxTzafyYtnL"
      },
      "execution_count": null,
      "outputs": []
    },
    {
      "cell_type": "code",
      "source": [
        "%%R\n",
        "write.csv(data_filt_final, paste(\"/content/drive/MyDrive/complete_dataset/dataset_P_L\", TOTAL_LANGUAGES, \".csv\", sep=\"\"), row.names=F)"
      ],
      "metadata": {
        "id": "Xj1nP1BYYLW6"
      },
      "execution_count": null,
      "outputs": []
    }
  ]
}
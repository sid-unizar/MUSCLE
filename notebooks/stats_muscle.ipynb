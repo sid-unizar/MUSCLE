{
  "nbformat": 4,
  "nbformat_minor": 0,
  "metadata": {
    "colab": {
      "provenance": []
    },
    "kernelspec": {
      "name": "python3",
      "display_name": "Python 3"
    },
    "language_info": {
      "name": "python"
    }
  },
  "cells": [
    {
      "cell_type": "code",
      "execution_count": 1,
      "metadata": {
        "colab": {
          "base_uri": "https://localhost:8080/"
        },
        "id": "SqWSdsrZGKvz",
        "outputId": "b28cf51d-abcd-40ad-cdfa-44ff04128349"
      },
      "outputs": [
        {
          "output_type": "stream",
          "name": "stdout",
          "text": [
            "Downloading...\n",
            "From: https://drive.google.com/uc?id=1vXn30idOKST5vdfcW7AHHcGO0f2Piu_U\n",
            "To: /content/dataset_L25_train_random.csv\n",
            "100% 11.8M/11.8M [00:00<00:00, 42.5MB/s]\n",
            "Downloading...\n",
            "From: https://drive.google.com/uc?id=13utdPI11VYjSpYOX5vIBJ4TH_1vF7hDP\n",
            "To: /content/dataset_L25_test_random.csv\n",
            "100% 11.8M/11.8M [00:00<00:00, 45.6MB/s]\n",
            "Downloading...\n",
            "From: https://drive.google.com/uc?id=1-X3DZZu_GMd22T2jnvwiA39hPiaaHwgx\n",
            "To: /content/dataset_L25_train.csv\n",
            "100% 6.44M/6.44M [00:00<00:00, 47.3MB/s]\n",
            "Downloading...\n",
            "From: https://drive.google.com/uc?id=1fVV2iObSLesVRnqfbrFbgCTR-_eESSJa\n",
            "To: /content/dataset_L25_test.csv\n",
            "100% 6.86M/6.86M [00:00<00:00, 66.7MB/s]\n"
          ]
        }
      ],
      "source": [
        "# download dataset_L25_train_random.csv\n",
        "!gdown '1vXn30idOKST5vdfcW7AHHcGO0f2Piu_U'\n",
        "\n",
        "# download dataset_L25_test_random.csv\n",
        "!gdown '13utdPI11VYjSpYOX5vIBJ4TH_1vF7hDP'\n",
        "\n",
        "# download dataset_L25_train.csv (semantic split)\n",
        "!gdown '1-X3DZZu_GMd22T2jnvwiA39hPiaaHwgx'\n",
        "\n",
        "#download dataset_L25_test.csv (semantic split)\n",
        "!gdown '1fVV2iObSLesVRnqfbrFbgCTR-_eESSJa'"
      ]
    },
    {
      "cell_type": "code",
      "source": [
        "!pip install transformers"
      ],
      "metadata": {
        "colab": {
          "base_uri": "https://localhost:8080/"
        },
        "id": "mr2SCBLQGYX8",
        "outputId": "767aece9-daea-4918-d56d-acf983cf8f28"
      },
      "execution_count": 2,
      "outputs": [
        {
          "output_type": "stream",
          "name": "stdout",
          "text": [
            "Collecting transformers\n",
            "  Downloading transformers-4.30.2-py3-none-any.whl (7.2 MB)\n",
            "\u001b[2K     \u001b[90m━━━━━━━━━━━━━━━━━━━━━━━━━━━━━━━━━━━━━━━━\u001b[0m \u001b[32m7.2/7.2 MB\u001b[0m \u001b[31m64.6 MB/s\u001b[0m eta \u001b[36m0:00:00\u001b[0m\n",
            "\u001b[?25hRequirement already satisfied: filelock in /usr/local/lib/python3.10/dist-packages (from transformers) (3.12.2)\n",
            "Collecting huggingface-hub<1.0,>=0.14.1 (from transformers)\n",
            "  Downloading huggingface_hub-0.16.2-py3-none-any.whl (268 kB)\n",
            "\u001b[2K     \u001b[90m━━━━━━━━━━━━━━━━━━━━━━━━━━━━━━━━━━━━━━\u001b[0m \u001b[32m268.5/268.5 kB\u001b[0m \u001b[31m27.7 MB/s\u001b[0m eta \u001b[36m0:00:00\u001b[0m\n",
            "\u001b[?25hRequirement already satisfied: numpy>=1.17 in /usr/local/lib/python3.10/dist-packages (from transformers) (1.22.4)\n",
            "Requirement already satisfied: packaging>=20.0 in /usr/local/lib/python3.10/dist-packages (from transformers) (23.1)\n",
            "Requirement already satisfied: pyyaml>=5.1 in /usr/local/lib/python3.10/dist-packages (from transformers) (6.0)\n",
            "Requirement already satisfied: regex!=2019.12.17 in /usr/local/lib/python3.10/dist-packages (from transformers) (2022.10.31)\n",
            "Requirement already satisfied: requests in /usr/local/lib/python3.10/dist-packages (from transformers) (2.27.1)\n",
            "Collecting tokenizers!=0.11.3,<0.14,>=0.11.1 (from transformers)\n",
            "  Downloading tokenizers-0.13.3-cp310-cp310-manylinux_2_17_x86_64.manylinux2014_x86_64.whl (7.8 MB)\n",
            "\u001b[2K     \u001b[90m━━━━━━━━━━━━━━━━━━━━━━━━━━━━━━━━━━━━━━━━\u001b[0m \u001b[32m7.8/7.8 MB\u001b[0m \u001b[31m86.9 MB/s\u001b[0m eta \u001b[36m0:00:00\u001b[0m\n",
            "\u001b[?25hCollecting safetensors>=0.3.1 (from transformers)\n",
            "  Downloading safetensors-0.3.1-cp310-cp310-manylinux_2_17_x86_64.manylinux2014_x86_64.whl (1.3 MB)\n",
            "\u001b[2K     \u001b[90m━━━━━━━━━━━━━━━━━━━━━━━━━━━━━━━━━━━━━━━━\u001b[0m \u001b[32m1.3/1.3 MB\u001b[0m \u001b[31m65.0 MB/s\u001b[0m eta \u001b[36m0:00:00\u001b[0m\n",
            "\u001b[?25hRequirement already satisfied: tqdm>=4.27 in /usr/local/lib/python3.10/dist-packages (from transformers) (4.65.0)\n",
            "Requirement already satisfied: fsspec in /usr/local/lib/python3.10/dist-packages (from huggingface-hub<1.0,>=0.14.1->transformers) (2023.6.0)\n",
            "Requirement already satisfied: typing-extensions>=3.7.4.3 in /usr/local/lib/python3.10/dist-packages (from huggingface-hub<1.0,>=0.14.1->transformers) (4.6.3)\n",
            "Requirement already satisfied: urllib3<1.27,>=1.21.1 in /usr/local/lib/python3.10/dist-packages (from requests->transformers) (1.26.16)\n",
            "Requirement already satisfied: certifi>=2017.4.17 in /usr/local/lib/python3.10/dist-packages (from requests->transformers) (2023.5.7)\n",
            "Requirement already satisfied: charset-normalizer~=2.0.0 in /usr/local/lib/python3.10/dist-packages (from requests->transformers) (2.0.12)\n",
            "Requirement already satisfied: idna<4,>=2.5 in /usr/local/lib/python3.10/dist-packages (from requests->transformers) (3.4)\n",
            "Installing collected packages: tokenizers, safetensors, huggingface-hub, transformers\n",
            "Successfully installed huggingface-hub-0.16.2 safetensors-0.3.1 tokenizers-0.13.3 transformers-4.30.2\n"
          ]
        }
      ]
    },
    {
      "cell_type": "code",
      "source": [
        "from tokenizers import normalizers, pre_tokenizers\n",
        "import pandas as pd\n",
        "import numpy as np\n",
        "import re"
      ],
      "metadata": {
        "id": "AX-2mJZuGfG4"
      },
      "execution_count": 3,
      "outputs": []
    },
    {
      "cell_type": "code",
      "source": [
        "class PunctuationPreTokenizer:\n",
        "    def __init__ (self):\n",
        "        self.normalizer = normalizers.BertNormalizer(lowercase=True, strip_accents=False,)\n",
        "        self.pre_tok = pre_tokenizers.BertPreTokenizer()\n",
        "    def encode (self, w):\n",
        "        w = self.normalizer.normalize_str(w)\n",
        "        l = self.pre_tok.pre_tokenize_str(w)\n",
        "        res = [t for t, pos in l]\n",
        "        return res"
      ],
      "metadata": {
        "id": "OWJw4jwSGd2B"
      },
      "execution_count": 4,
      "outputs": []
    },
    {
      "cell_type": "code",
      "source": [
        "file_muscle_random_train = '/content/dataset_L25_train_random.csv'\n",
        "file_muscle_random_test = '/content/dataset_L25_test_random.csv'\n",
        "file_muscle_sem_train = '/content/dataset_L25_train.csv'\n",
        "file_muscle_sem_test = '/content/dataset_L25_test.csv'\n",
        "\n",
        "muscle_r_train = pd.read_csv(file_muscle_random_train)\n",
        "muscle_r_test = pd.read_csv(file_muscle_random_test)\n",
        "muscle_s_train = pd.read_csv(file_muscle_sem_train)\n",
        "muscle_s_test = pd.read_csv(file_muscle_sem_test)"
      ],
      "metadata": {
        "id": "_s-FES59HQdH"
      },
      "execution_count": 5,
      "outputs": []
    },
    {
      "cell_type": "markdown",
      "source": [
        "**Stats of the MUSCLE dataset (random and semantic splits)**"
      ],
      "metadata": {
        "id": "dn0TbCrh5_mF"
      }
    },
    {
      "cell_type": "code",
      "source": [
        "count_r_train = muscle_r_train['relation_type'].value_counts().sort_index()\n",
        "count_r_test = muscle_r_test['relation_type'].value_counts().sort_index()\n",
        "count_s_train = muscle_s_train['relation_type'].value_counts().sort_index()\n",
        "count_s_test = muscle_r_test['relation_type'].value_counts().sort_index()\n"
      ],
      "metadata": {
        "id": "rw1ax7Ea0crp"
      },
      "execution_count": 26,
      "outputs": []
    },
    {
      "cell_type": "code",
      "source": [
        "subj_concepts_muscle_r_train = muscle_r_train['subject'].unique()\n",
        "obj_concepts_muscle_r_train = muscle_r_train['object'].unique()\n",
        "concepts_muscle_r_train = np.unique(np.concatenate([subj_concepts_muscle_r_train,obj_concepts_muscle_r_train]))\n",
        "\n",
        "subj_concepts_muscle_r_test = muscle_r_test['subject'].unique()\n",
        "obj_concepts_muscle_r_test = muscle_r_test['object'].unique()\n",
        "concepts_muscle_r_test = np.unique(np.concatenate([subj_concepts_muscle_r_test,obj_concepts_muscle_r_test]))\n",
        "\n",
        "concepts_muscle_r_inter_train_test = set(concepts_muscle_r_train).intersection(set(concepts_muscle_r_test))\n",
        "\n",
        "subj_concepts_muscle_s_train = muscle_s_train['subject'].unique()\n",
        "obj_concepts_muscle_s_train = muscle_s_train['object'].unique()\n",
        "concepts_muscle_s_train = np.unique(np.concatenate([subj_concepts_muscle_s_train,obj_concepts_muscle_s_train]))\n",
        "\n",
        "subj_concepts_muscle_s_test = muscle_s_test['subject'].unique()\n",
        "obj_concepts_muscle_s_test = muscle_s_test['object'].unique()\n",
        "concepts_muscle_s_test = np.unique(np.concatenate([subj_concepts_muscle_s_test,obj_concepts_muscle_s_test]))\n",
        "\n",
        "concepts_muscle_s_inter_train_test = set(concepts_muscle_s_train).intersection(set(concepts_muscle_s_test))\n",
        "\n",
        "print(len(concepts_muscle_r_train))\n",
        "print(len(concepts_muscle_r_test))\n",
        "print(len(concepts_muscle_s_train))\n",
        "print(len(concepts_muscle_s_test))\n",
        "\n",
        "print(len(concepts_muscle_r_inter_train_test))\n",
        "print(len(concepts_muscle_s_inter_train_test))"
      ],
      "metadata": {
        "colab": {
          "base_uri": "https://localhost:8080/"
        },
        "id": "c8irT42FIXa9",
        "outputId": "cfd84e54-1eb1-4071-950d-bd133441f39d"
      },
      "execution_count": 6,
      "outputs": [
        {
          "output_type": "stream",
          "name": "stdout",
          "text": [
            "6459\n",
            "6464\n",
            "3399\n",
            "3414\n",
            "5692\n",
            "0\n"
          ]
        }
      ]
    },
    {
      "cell_type": "code",
      "source": [
        "rans_list = ['/'.join([str(len(concepts_muscle_r_train)),str(len(concepts_muscle_r_test))])]\n",
        "rans_list.append(str(len(set(concepts_muscle_r_train).union(concepts_muscle_r_test))))\n",
        "\n",
        "for i in count_r_train.index:\n",
        "    rans_list.append('/'.join([str(count_r_train[i]),str(count_r_test[i])]))\n",
        "\n",
        "rans_list.append('/'.join([str(muscle_r_train.shape[0]),str(muscle_r_test.shape[0])]))\n",
        "\n",
        "sems_list = ['/'.join([str(len(concepts_muscle_s_train)),str(len(concepts_muscle_s_test))])]\n",
        "sems_list.append(str(len(set(concepts_muscle_s_train).union(concepts_muscle_s_test))))\n",
        "\n",
        "for i in count_s_train.index:\n",
        "    sems_list.append('/'.join([str(count_s_train[i]),str(count_s_test[i])]))\n",
        "\n",
        "sems_list.append('/'.join([str(muscle_s_train.shape[0]),str(muscle_s_test.shape[0])]))\n",
        "\n",
        "dict_stats_muscle = {'RanS train/test':rans_list, 'SemS train/test':sems_list}\n",
        "df_stats_muscle = pd.DataFrame.from_dict(dict_stats_muscle)\n",
        "\n",
        "df_stats_muscle.index = ['Concepts', 'Total concepts', 'ant', 'holo', 'hyper', 'hypo', 'mero', 'random', 'Total']\n",
        "df_stats_muscle"
      ],
      "metadata": {
        "colab": {
          "base_uri": "https://localhost:8080/",
          "height": 331
        },
        "id": "OK_Huxrv1oLs",
        "outputId": "9a7655cb-ce4f-4cdf-f7ee-22634a3ecd52"
      },
      "execution_count": 47,
      "outputs": [
        {
          "output_type": "execute_result",
          "data": {
            "text/plain": [
              "               RanS train/test SemS train/test\n",
              "Concepts             6459/6464       3399/3414\n",
              "Total concepts            7231            6813\n",
              "ant                    148/148         145/148\n",
              "holo                   841/842         470/842\n",
              "hyper                1332/1332        955/1332\n",
              "hypo                 1332/1332        993/1332\n",
              "mero                   473/472         340/472\n",
              "random               9627/9628       4713/9628\n",
              "Total              13753/13754       7616/7841"
            ],
            "text/html": [
              "\n",
              "  <div id=\"df-ab4394d5-ee86-406a-8c9e-eb883168219b\">\n",
              "    <div class=\"colab-df-container\">\n",
              "      <div>\n",
              "<style scoped>\n",
              "    .dataframe tbody tr th:only-of-type {\n",
              "        vertical-align: middle;\n",
              "    }\n",
              "\n",
              "    .dataframe tbody tr th {\n",
              "        vertical-align: top;\n",
              "    }\n",
              "\n",
              "    .dataframe thead th {\n",
              "        text-align: right;\n",
              "    }\n",
              "</style>\n",
              "<table border=\"1\" class=\"dataframe\">\n",
              "  <thead>\n",
              "    <tr style=\"text-align: right;\">\n",
              "      <th></th>\n",
              "      <th>RanS train/test</th>\n",
              "      <th>SemS train/test</th>\n",
              "    </tr>\n",
              "  </thead>\n",
              "  <tbody>\n",
              "    <tr>\n",
              "      <th>Concepts</th>\n",
              "      <td>6459/6464</td>\n",
              "      <td>3399/3414</td>\n",
              "    </tr>\n",
              "    <tr>\n",
              "      <th>Total concepts</th>\n",
              "      <td>7231</td>\n",
              "      <td>6813</td>\n",
              "    </tr>\n",
              "    <tr>\n",
              "      <th>ant</th>\n",
              "      <td>148/148</td>\n",
              "      <td>145/148</td>\n",
              "    </tr>\n",
              "    <tr>\n",
              "      <th>holo</th>\n",
              "      <td>841/842</td>\n",
              "      <td>470/842</td>\n",
              "    </tr>\n",
              "    <tr>\n",
              "      <th>hyper</th>\n",
              "      <td>1332/1332</td>\n",
              "      <td>955/1332</td>\n",
              "    </tr>\n",
              "    <tr>\n",
              "      <th>hypo</th>\n",
              "      <td>1332/1332</td>\n",
              "      <td>993/1332</td>\n",
              "    </tr>\n",
              "    <tr>\n",
              "      <th>mero</th>\n",
              "      <td>473/472</td>\n",
              "      <td>340/472</td>\n",
              "    </tr>\n",
              "    <tr>\n",
              "      <th>random</th>\n",
              "      <td>9627/9628</td>\n",
              "      <td>4713/9628</td>\n",
              "    </tr>\n",
              "    <tr>\n",
              "      <th>Total</th>\n",
              "      <td>13753/13754</td>\n",
              "      <td>7616/7841</td>\n",
              "    </tr>\n",
              "  </tbody>\n",
              "</table>\n",
              "</div>\n",
              "      <button class=\"colab-df-convert\" onclick=\"convertToInteractive('df-ab4394d5-ee86-406a-8c9e-eb883168219b')\"\n",
              "              title=\"Convert this dataframe to an interactive table.\"\n",
              "              style=\"display:none;\">\n",
              "        \n",
              "  <svg xmlns=\"http://www.w3.org/2000/svg\" height=\"24px\"viewBox=\"0 0 24 24\"\n",
              "       width=\"24px\">\n",
              "    <path d=\"M0 0h24v24H0V0z\" fill=\"none\"/>\n",
              "    <path d=\"M18.56 5.44l.94 2.06.94-2.06 2.06-.94-2.06-.94-.94-2.06-.94 2.06-2.06.94zm-11 1L8.5 8.5l.94-2.06 2.06-.94-2.06-.94L8.5 2.5l-.94 2.06-2.06.94zm10 10l.94 2.06.94-2.06 2.06-.94-2.06-.94-.94-2.06-.94 2.06-2.06.94z\"/><path d=\"M17.41 7.96l-1.37-1.37c-.4-.4-.92-.59-1.43-.59-.52 0-1.04.2-1.43.59L10.3 9.45l-7.72 7.72c-.78.78-.78 2.05 0 2.83L4 21.41c.39.39.9.59 1.41.59.51 0 1.02-.2 1.41-.59l7.78-7.78 2.81-2.81c.8-.78.8-2.07 0-2.86zM5.41 20L4 18.59l7.72-7.72 1.47 1.35L5.41 20z\"/>\n",
              "  </svg>\n",
              "      </button>\n",
              "      \n",
              "  <style>\n",
              "    .colab-df-container {\n",
              "      display:flex;\n",
              "      flex-wrap:wrap;\n",
              "      gap: 12px;\n",
              "    }\n",
              "\n",
              "    .colab-df-convert {\n",
              "      background-color: #E8F0FE;\n",
              "      border: none;\n",
              "      border-radius: 50%;\n",
              "      cursor: pointer;\n",
              "      display: none;\n",
              "      fill: #1967D2;\n",
              "      height: 32px;\n",
              "      padding: 0 0 0 0;\n",
              "      width: 32px;\n",
              "    }\n",
              "\n",
              "    .colab-df-convert:hover {\n",
              "      background-color: #E2EBFA;\n",
              "      box-shadow: 0px 1px 2px rgba(60, 64, 67, 0.3), 0px 1px 3px 1px rgba(60, 64, 67, 0.15);\n",
              "      fill: #174EA6;\n",
              "    }\n",
              "\n",
              "    [theme=dark] .colab-df-convert {\n",
              "      background-color: #3B4455;\n",
              "      fill: #D2E3FC;\n",
              "    }\n",
              "\n",
              "    [theme=dark] .colab-df-convert:hover {\n",
              "      background-color: #434B5C;\n",
              "      box-shadow: 0px 1px 3px 1px rgba(0, 0, 0, 0.15);\n",
              "      filter: drop-shadow(0px 1px 2px rgba(0, 0, 0, 0.3));\n",
              "      fill: #FFFFFF;\n",
              "    }\n",
              "  </style>\n",
              "\n",
              "      <script>\n",
              "        const buttonEl =\n",
              "          document.querySelector('#df-ab4394d5-ee86-406a-8c9e-eb883168219b button.colab-df-convert');\n",
              "        buttonEl.style.display =\n",
              "          google.colab.kernel.accessAllowed ? 'block' : 'none';\n",
              "\n",
              "        async function convertToInteractive(key) {\n",
              "          const element = document.querySelector('#df-ab4394d5-ee86-406a-8c9e-eb883168219b');\n",
              "          const dataTable =\n",
              "            await google.colab.kernel.invokeFunction('convertToInteractive',\n",
              "                                                     [key], {});\n",
              "          if (!dataTable) return;\n",
              "\n",
              "          const docLinkHtml = 'Like what you see? Visit the ' +\n",
              "            '<a target=\"_blank\" href=https://colab.research.google.com/notebooks/data_table.ipynb>data table notebook</a>'\n",
              "            + ' to learn more about interactive tables.';\n",
              "          element.innerHTML = '';\n",
              "          dataTable['output_type'] = 'display_data';\n",
              "          await google.colab.output.renderOutput(dataTable, element);\n",
              "          const docLink = document.createElement('div');\n",
              "          docLink.innerHTML = docLinkHtml;\n",
              "          element.appendChild(docLink);\n",
              "        }\n",
              "      </script>\n",
              "    </div>\n",
              "  </div>\n",
              "  "
            ]
          },
          "metadata": {},
          "execution_count": 47
        }
      ]
    },
    {
      "cell_type": "markdown",
      "source": [
        "**Muliword stats**"
      ],
      "metadata": {
        "id": "sy1O7Ejn6LlG"
      }
    },
    {
      "cell_type": "code",
      "source": [
        "def concepts_verb(data_set, dict_verbs):\n",
        "    for c, verbs in data_set.iterrows():\n",
        "        csub = verbs['subject']\n",
        "        cobj = verbs['object']\n",
        "        if csub not in dict_verbs:\n",
        "            indxs = [ lab for lab in verbs.index if '_subject' in lab]\n",
        "            new_indxs = [re.sub('_.*','',lab) for lab in indxs]\n",
        "            dict_verbs[csub] = verbs[indxs]\n",
        "            dict_verbs[csub].index = new_indxs\n",
        "        if cobj not in dict_verbs:\n",
        "            indxs = [ lab for lab in verbs.index if '_object' in lab]\n",
        "            new_indxs = [re.sub('_.*','',lab) for lab in indxs]\n",
        "            dict_verbs[cobj] = verbs[indxs]\n",
        "            dict_verbs[cobj].index = new_indxs\n",
        "\n",
        "verb_concepts_muscle_r={}\n",
        "concepts_verb(muscle_r_train, verb_concepts_muscle_r)\n",
        "concepts_verb(muscle_r_test, verb_concepts_muscle_r)\n",
        "\n",
        "verb_concepts_muscle_s={}\n",
        "concepts_verb(muscle_s_train, verb_concepts_muscle_s)\n",
        "concepts_verb(muscle_s_test, verb_concepts_muscle_s)"
      ],
      "metadata": {
        "id": "yZWL3qoJQqU7"
      },
      "execution_count": 7,
      "outputs": []
    },
    {
      "cell_type": "code",
      "source": [
        "df_muscle_r = pd.DataFrame.from_dict(verb_concepts_muscle_r).sort_index()\n",
        "df_muscle_r = df_muscle_r.T\n",
        "\n",
        "df_muscle_s = pd.DataFrame.from_dict(verb_concepts_muscle_s).sort_index()\n",
        "df_muscle_s = df_muscle_s.T\n",
        "\n",
        "tokenizer = PunctuationPreTokenizer()\n",
        "\n",
        "multi_words_muscle_r = df_muscle_r.apply(lambda x : [len(tokenizer.encode(a)) for a in x], axis=0)\n",
        "stats_multi_words_muscle_r = multi_words_muscle_r.apply(lambda x: [sum(x==1)/len(x),1 -sum(x==1)/len(x)], axis=0)\n",
        "\n",
        "multi_words_muscle_s = df_muscle_s.apply(lambda x : [len(tokenizer.encode(a)) for a in x], axis=0)\n",
        "stats_multi_words_muscle_s = multi_words_muscle_s.apply(lambda x: [sum(x==1)/len(x),1 -sum(x==1)/len(x)], axis=0)"
      ],
      "metadata": {
        "id": "VFW3oLNCRjB4"
      },
      "execution_count": 8,
      "outputs": []
    },
    {
      "cell_type": "code",
      "source": [
        "import matplotlib.pyplot as plt"
      ],
      "metadata": {
        "id": "82uXAo6ig6eW"
      },
      "execution_count": 9,
      "outputs": []
    },
    {
      "cell_type": "code",
      "source": [
        "languages = stats_multi_words_muscle_s.columns\n",
        "\n",
        "weight_counts_s = {\n",
        "    \"Single\": stats_multi_words_muscle_s.iloc[0],\n",
        "    \"Multi\": stats_multi_words_muscle_s.iloc[1],\n",
        "}\n",
        "\n",
        "weight_counts_r = {\n",
        "    \"SingleRanS\": stats_multi_words_muscle_r.iloc[0],\n",
        "    \"MultiRanS\": stats_multi_words_muscle_r.iloc[1],\n",
        "}\n",
        "\n",
        "median_s = np.median(stats_multi_words_muscle_s.iloc[0])\n",
        "\n",
        "fig, ax = plt.subplots(layout='constrained')\n",
        "# bottom_r = np.zeros(25)\n",
        "width = 0.5\n",
        "bottom_s = np.zeros(25)\n",
        "\n",
        "for (type_word_r, weight_count_r), (type_word_s, weight_count_s) in zip(weight_counts_r.items(), weight_counts_s.items()):\n",
        "    p = ax.bar(languages, weight_count_s, width, label=type_word_s, bottom=bottom_s)\n",
        "    bottom_s += weight_count_s\n",
        "\n",
        "\n",
        "ax.set_title(\"Distribution of single/multi words by language MUSCLE SemS\\n\")\n",
        "legend  = ax.legend(bbox_to_anchor=(0.3, 0.96), ncol=2)\n",
        "legend.get_frame().set_alpha(None)\n",
        "\n",
        "# plot median\n",
        "plt.axhline(y = median_s, color = 'r', linestyle = ':')\n",
        "\n",
        "plt.savefig('multiwords.png', bbox_inches='tight')\n",
        "plt.show()\n",
        "\n"
      ],
      "metadata": {
        "colab": {
          "base_uri": "https://localhost:8080/",
          "height": 508
        },
        "id": "aVGKBllphF4a",
        "outputId": "20e9df05-0388-433f-9df3-7544cf9ba510"
      },
      "execution_count": 10,
      "outputs": [
        {
          "output_type": "display_data",
          "data": {
            "text/plain": [
              "<Figure size 640x480 with 1 Axes>"
            ],
            "image/png": "[encoded data removed]"
          },
          "metadata": {}
        }
      ]
    },
    {
      "cell_type": "markdown",
      "source": [
        "**Participation label stats**"
      ],
      "metadata": {
        "id": "H-N7exKT6SFe"
      }
    },
    {
      "cell_type": "code",
      "source": [
        "labels = muscle_r_train['relation_type'].unique()\n",
        "\n",
        "label_dist_muscle_r = {k:pd.Series(np.zeros(6),index=labels) for k in set(concepts_muscle_r_train).union(concepts_muscle_r_test)}\n",
        "for i, r in muscle_r_train.iterrows():\n",
        "    label_dist_muscle_r[r['subject']][r['relation_type']] += 1\n",
        "    label_dist_muscle_r[r['object']][r['relation_type']] += 1\n",
        "\n",
        "for i, r in muscle_r_test.iterrows():\n",
        "    label_dist_muscle_r[r['subject']][r['relation_type']] += 1\n",
        "    label_dist_muscle_r[r['object']][r['relation_type']] += 1\n",
        "\n",
        "label_dist_muscle_s = {k:pd.Series(np.zeros(6),index=labels) for k in set(concepts_muscle_s_train).union(concepts_muscle_s_test)}\n",
        "for i, r in muscle_s_train.iterrows():\n",
        "    label_dist_muscle_s[r['subject']][r['relation_type']] += 1\n",
        "    label_dist_muscle_s[r['object']][r['relation_type']] += 1\n",
        "\n",
        "for i, r in muscle_s_test.iterrows():\n",
        "    label_dist_muscle_s[r['subject']][r['relation_type']] += 1\n",
        "    label_dist_muscle_s[r['object']][r['relation_type']] += 1\n",
        "\n"
      ],
      "metadata": {
        "id": "1PDJe2FoMIqw"
      },
      "execution_count": 11,
      "outputs": []
    },
    {
      "cell_type": "code",
      "source": [
        "df_label_dist_muscle_r = pd.DataFrame.from_dict(label_dist_muscle_r)\n",
        "df_label_dist_muscle_s = pd.DataFrame.from_dict(label_dist_muscle_s)\n",
        "\n",
        "d_r = df_label_dist_muscle_r.apply(lambda x: np.argwhere(np.array(x)).shape[0])\n",
        "d_s = df_label_dist_muscle_s.apply(lambda x: np.argwhere(np.array(x)).shape[0])"
      ],
      "metadata": {
        "id": "ufRylYa3dyRn"
      },
      "execution_count": 12,
      "outputs": []
    },
    {
      "cell_type": "code",
      "source": [
        "splits = ['RanS', 'SemS']\n",
        "\n",
        "dist_dict={\n",
        "    'one rel.':[sum(d_r==1)/len(d_r), sum(d_s==1)/len(d_s)],\n",
        "    'two rel.':[sum(d_r==2)/len(d_r), sum(d_s==2)/len(d_s)],\n",
        "    'three or more rel.':[sum(d_r>=3)/len(d_r), sum(d_s>=3)/len(d_s)],\n",
        "}\n",
        "\n",
        "x = np.arange(len(splits))  # the label locations\n",
        "width = 0.25  # the width of the bars\n",
        "multiplier = 0\n",
        "\n",
        "fig, ax = plt.subplots(layout='constrained')\n",
        "\n",
        "for attribute, measurement in dist_dict.items():\n",
        "    offset = width * multiplier\n",
        "    rects = ax.bar(x + offset, measurement, width, label=attribute)\n",
        "    #ax.bar_label(rects, padding=3)\n",
        "    multiplier += 1\n",
        "\n",
        "ax.set_title('Percentage of concepts participanting in\\n one, two and more than three relations')\n",
        "ax.set_xticks(x + width, splits)\n",
        "ax.legend(loc='upper left', ncols=1)\n",
        "\n",
        "plt.savefig('distlabels.png', bbox_inches='tight')\n",
        "plt.show()"
      ],
      "metadata": {
        "id": "wiHJ22mFhi5-",
        "colab": {
          "base_uri": "https://localhost:8080/",
          "height": 508
        },
        "outputId": "c1bf0dce-f471-49e4-f332-db46d0a3fa1d"
      },
      "execution_count": 13,
      "outputs": [
        {
          "output_type": "display_data",
          "data": {
            "text/plain": [
              "<Figure size 640x480 with 1 Axes>"
            ],
            "image/png": "[encoded data removed]"
          },
          "metadata": {}
        }
      ]
    }
  ]
}